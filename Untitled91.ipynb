{
  "nbformat": 4,
  "nbformat_minor": 0,
  "metadata": {
    "colab": {
      "provenance": [],
      "authorship_tag": "ABX9TyNcvysAYRaR5D3f7G+ORCvg",
      "include_colab_link": true
    },
    "kernelspec": {
      "name": "python3",
      "display_name": "Python 3"
    },
    "language_info": {
      "name": "python"
    }
  },
  "cells": [
    {
      "cell_type": "markdown",
      "metadata": {
        "id": "view-in-github",
        "colab_type": "text"
      },
      "source": [
        "<a href=\"https://colab.research.google.com/github/yeonghun00/Twitter-Sentiment-Analysis/blob/main/Untitled91.ipynb\" target=\"_parent\"><img src=\"https://colab.research.google.com/assets/colab-badge.svg\" alt=\"Open In Colab\"/></a>"
      ]
    },
    {
      "cell_type": "code",
      "source": [
        "!pip install nest-asyncio"
      ],
      "metadata": {
        "colab": {
          "base_uri": "https://localhost:8080/"
        },
        "id": "0jx1xbtThKvK",
        "outputId": "ce7c8ea4-daf1-40ec-e505-3a13e1c498f2"
      },
      "execution_count": 1,
      "outputs": [
        {
          "output_type": "stream",
          "name": "stdout",
          "text": [
            "Looking in indexes: https://pypi.org/simple, https://us-python.pkg.dev/colab-wheels/public/simple/\n",
            "Requirement already satisfied: nest-asyncio in /usr/local/lib/python3.8/dist-packages (1.5.6)\n"
          ]
        }
      ]
    },
    {
      "cell_type": "code",
      "source": [
        "import nest_asyncio \n",
        "nest_asyncio.apply()"
      ],
      "metadata": {
        "id": "barAYq5qhaeE"
      },
      "execution_count": 2,
      "outputs": []
    },
    {
      "cell_type": "code",
      "source": [
        "!pip install --user --upgrade \"git+https://github.com/twintproject/twint.git@origin/master#egg=twint\""
      ],
      "metadata": {
        "colab": {
          "base_uri": "https://localhost:8080/"
        },
        "id": "NxTHpFBhhVSj",
        "outputId": "104e4680-51d1-4e89-abb4-3bbf9aa25fae"
      },
      "execution_count": 3,
      "outputs": [
        {
          "output_type": "stream",
          "name": "stdout",
          "text": [
            "Looking in indexes: https://pypi.org/simple, https://us-python.pkg.dev/colab-wheels/public/simple/\n",
            "Collecting twint\n",
            "  Cloning https://github.com/twintproject/twint.git (to revision origin/master) to /tmp/pip-install-o08ua9wm/twint_183083f293314ca0ba4c2725c3677116\n",
            "  Running command git clone --filter=blob:none --quiet https://github.com/twintproject/twint.git /tmp/pip-install-o08ua9wm/twint_183083f293314ca0ba4c2725c3677116\n",
            "\u001b[33m  WARNING: Did not find branch or tag 'origin/master', assuming revision or ref.\u001b[0m\u001b[33m\n",
            "\u001b[0m  Running command git checkout -q origin/master\n",
            "  Resolved https://github.com/twintproject/twint.git to commit origin/master\n",
            "  Preparing metadata (setup.py) ... \u001b[?25l\u001b[?25hdone\n",
            "Requirement already satisfied: aiohttp in /usr/local/lib/python3.8/dist-packages (from twint) (3.8.3)\n",
            "Requirement already satisfied: aiodns in /usr/local/lib/python3.8/dist-packages (from twint) (3.0.0)\n",
            "Requirement already satisfied: beautifulsoup4 in /usr/local/lib/python3.8/dist-packages (from twint) (4.6.3)\n",
            "Requirement already satisfied: cchardet in /usr/local/lib/python3.8/dist-packages (from twint) (2.1.7)\n",
            "Requirement already satisfied: dataclasses in /root/.local/lib/python3.8/site-packages (from twint) (0.6)\n",
            "Requirement already satisfied: elasticsearch in /usr/local/lib/python3.8/dist-packages (from twint) (8.6.1)\n",
            "Requirement already satisfied: pysocks in /usr/local/lib/python3.8/dist-packages (from twint) (1.7.1)\n",
            "Requirement already satisfied: pandas in /usr/local/lib/python3.8/dist-packages (from twint) (1.3.5)\n",
            "Requirement already satisfied: aiohttp_socks in /usr/local/lib/python3.8/dist-packages (from twint) (0.7.1)\n",
            "Requirement already satisfied: schedule in /usr/local/lib/python3.8/dist-packages (from twint) (1.1.0)\n",
            "Requirement already satisfied: geopy in /usr/local/lib/python3.8/dist-packages (from twint) (1.17.0)\n",
            "Requirement already satisfied: fake-useragent in /usr/local/lib/python3.8/dist-packages (from twint) (1.1.1)\n",
            "Requirement already satisfied: googletransx in /usr/local/lib/python3.8/dist-packages (from twint) (2.4.2)\n",
            "Requirement already satisfied: pycares>=4.0.0 in /usr/local/lib/python3.8/dist-packages (from aiodns->twint) (4.3.0)\n",
            "Requirement already satisfied: frozenlist>=1.1.1 in /usr/local/lib/python3.8/dist-packages (from aiohttp->twint) (1.3.3)\n",
            "Requirement already satisfied: aiosignal>=1.1.2 in /usr/local/lib/python3.8/dist-packages (from aiohttp->twint) (1.3.1)\n",
            "Requirement already satisfied: async-timeout<5.0,>=4.0.0a3 in /usr/local/lib/python3.8/dist-packages (from aiohttp->twint) (4.0.2)\n",
            "Requirement already satisfied: charset-normalizer<3.0,>=2.0 in /usr/local/lib/python3.8/dist-packages (from aiohttp->twint) (2.1.1)\n",
            "Requirement already satisfied: multidict<7.0,>=4.5 in /usr/local/lib/python3.8/dist-packages (from aiohttp->twint) (6.0.4)\n",
            "Requirement already satisfied: yarl<2.0,>=1.0 in /usr/local/lib/python3.8/dist-packages (from aiohttp->twint) (1.8.2)\n",
            "Requirement already satisfied: attrs>=17.3.0 in /usr/local/lib/python3.8/dist-packages (from aiohttp->twint) (22.2.0)\n",
            "Requirement already satisfied: python-socks[asyncio]<3.0.0,>=2.0.0 in /usr/local/lib/python3.8/dist-packages (from aiohttp_socks->twint) (2.1.1)\n",
            "Requirement already satisfied: elastic-transport<9,>=8 in /usr/local/lib/python3.8/dist-packages (from elasticsearch->twint) (8.4.0)\n",
            "Requirement already satisfied: importlib-resources>=5.0 in /usr/local/lib/python3.8/dist-packages (from fake-useragent->twint) (5.10.2)\n",
            "Requirement already satisfied: geographiclib<2,>=1.49 in /usr/local/lib/python3.8/dist-packages (from geopy->twint) (1.52)\n",
            "Requirement already satisfied: requests in /usr/local/lib/python3.8/dist-packages (from googletransx->twint) (2.25.1)\n",
            "Requirement already satisfied: python-dateutil>=2.7.3 in /usr/local/lib/python3.8/dist-packages (from pandas->twint) (2.8.2)\n",
            "Requirement already satisfied: pytz>=2017.3 in /usr/local/lib/python3.8/dist-packages (from pandas->twint) (2022.7.1)\n",
            "Requirement already satisfied: numpy>=1.17.3 in /usr/local/lib/python3.8/dist-packages (from pandas->twint) (1.21.6)\n",
            "Requirement already satisfied: certifi in /usr/local/lib/python3.8/dist-packages (from elastic-transport<9,>=8->elasticsearch->twint) (2022.12.7)\n",
            "Requirement already satisfied: urllib3<2,>=1.26.2 in /usr/local/lib/python3.8/dist-packages (from elastic-transport<9,>=8->elasticsearch->twint) (1.26.14)\n",
            "Requirement already satisfied: zipp>=3.1.0 in /usr/local/lib/python3.8/dist-packages (from importlib-resources>=5.0->fake-useragent->twint) (3.12.0)\n",
            "Requirement already satisfied: cffi>=1.5.0 in /usr/local/lib/python3.8/dist-packages (from pycares>=4.0.0->aiodns->twint) (1.15.1)\n",
            "Requirement already satisfied: six>=1.5 in /usr/local/lib/python3.8/dist-packages (from python-dateutil>=2.7.3->pandas->twint) (1.15.0)\n",
            "Requirement already satisfied: idna>=2.0 in /usr/local/lib/python3.8/dist-packages (from yarl<2.0,>=1.0->aiohttp->twint) (2.10)\n",
            "Requirement already satisfied: chardet<5,>=3.0.2 in /usr/local/lib/python3.8/dist-packages (from requests->googletransx->twint) (4.0.0)\n",
            "Requirement already satisfied: pycparser in /usr/local/lib/python3.8/dist-packages (from cffi>=1.5.0->pycares>=4.0.0->aiodns->twint) (2.21)\n"
          ]
        }
      ]
    },
    {
      "cell_type": "code",
      "source": [
        "!pip install openai"
      ],
      "metadata": {
        "colab": {
          "base_uri": "https://localhost:8080/"
        },
        "id": "FwJaJNKOoA3-",
        "outputId": "67093759-8888-4fad-dedc-bdcc3a0944d9"
      },
      "execution_count": 4,
      "outputs": [
        {
          "output_type": "stream",
          "name": "stdout",
          "text": [
            "Looking in indexes: https://pypi.org/simple, https://us-python.pkg.dev/colab-wheels/public/simple/\n",
            "Requirement already satisfied: openai in /usr/local/lib/python3.8/dist-packages (0.26.5)\n",
            "Requirement already satisfied: requests>=2.20 in /usr/local/lib/python3.8/dist-packages (from openai) (2.25.1)\n",
            "Requirement already satisfied: tqdm in /usr/local/lib/python3.8/dist-packages (from openai) (4.64.1)\n",
            "Requirement already satisfied: aiohttp in /usr/local/lib/python3.8/dist-packages (from openai) (3.8.3)\n",
            "Requirement already satisfied: chardet<5,>=3.0.2 in /usr/local/lib/python3.8/dist-packages (from requests>=2.20->openai) (4.0.0)\n",
            "Requirement already satisfied: idna<3,>=2.5 in /usr/local/lib/python3.8/dist-packages (from requests>=2.20->openai) (2.10)\n",
            "Requirement already satisfied: urllib3<1.27,>=1.21.1 in /usr/local/lib/python3.8/dist-packages (from requests>=2.20->openai) (1.26.14)\n",
            "Requirement already satisfied: certifi>=2017.4.17 in /usr/local/lib/python3.8/dist-packages (from requests>=2.20->openai) (2022.12.7)\n",
            "Requirement already satisfied: attrs>=17.3.0 in /usr/local/lib/python3.8/dist-packages (from aiohttp->openai) (22.2.0)\n",
            "Requirement already satisfied: yarl<2.0,>=1.0 in /usr/local/lib/python3.8/dist-packages (from aiohttp->openai) (1.8.2)\n",
            "Requirement already satisfied: frozenlist>=1.1.1 in /usr/local/lib/python3.8/dist-packages (from aiohttp->openai) (1.3.3)\n",
            "Requirement already satisfied: aiosignal>=1.1.2 in /usr/local/lib/python3.8/dist-packages (from aiohttp->openai) (1.3.1)\n",
            "Requirement already satisfied: async-timeout<5.0,>=4.0.0a3 in /usr/local/lib/python3.8/dist-packages (from aiohttp->openai) (4.0.2)\n",
            "Requirement already satisfied: charset-normalizer<3.0,>=2.0 in /usr/local/lib/python3.8/dist-packages (from aiohttp->openai) (2.1.1)\n",
            "Requirement already satisfied: multidict<7.0,>=4.5 in /usr/local/lib/python3.8/dist-packages (from aiohttp->openai) (6.0.4)\n"
          ]
        }
      ]
    },
    {
      "cell_type": "code",
      "source": [
        "import twint"
      ],
      "metadata": {
        "id": "nJLBRlb9i_1H"
      },
      "execution_count": 5,
      "outputs": []
    },
    {
      "cell_type": "code",
      "source": [
        "c = twint.Config()\n",
        "c.Search = 'Nasdaq' \n",
        "c.Limit = 50"
      ],
      "metadata": {
        "id": "r4s5f9YFhXbT"
      },
      "execution_count": 6,
      "outputs": []
    },
    {
      "cell_type": "code",
      "source": [
        "from datetime import datetime\n",
        "today = datetime.today().strftime('%Y-%m-%d')\n",
        "c.Since = '2023-02-06'\n",
        "c.Lang = \"en\"\n",
        "c.Pandas = True"
      ],
      "metadata": {
        "id": "M5eN5RaCh6S0"
      },
      "execution_count": 7,
      "outputs": []
    },
    {
      "cell_type": "code",
      "source": [
        "twint.run.Search(c)"
      ],
      "metadata": {
        "colab": {
          "base_uri": "https://localhost:8080/"
        },
        "id": "K6kdqYllqVSO",
        "outputId": "6406400e-7e84-4510-e7b2-69947670691b"
      },
      "execution_count": 8,
      "outputs": [
        {
          "output_type": "stream",
          "name": "stdout",
          "text": [
            "1623204343263510528 2023-02-08 06:17:27 +0000 <Sir_L3X> $$$$ crypto trade hack with  surprising  🏧  $UNI   🧧  #AVAX  🌐  #TechnicalAnalysis  ⚡️  sterling  🧩  $ATOM  🔱  #FINA  🖥  #ProfitFam  📊 #viral  🤖  #Tron  🤖  #MoneyGang  🍀 magnificent  👀  $NASDAQ  🌐  #VET  🎨  #Trader    https://t.co/uIq0rInAwt\n",
            "1623204179950071808 2023-02-08 06:16:48 +0000 <EricButler85233> @TheRightMelissa @RonFilipkowski All of this is ridiculous, but those NASDAQ numbers are completely made up.\n",
            "1623204093161517060 2023-02-08 06:16:28 +0000 <TtwStockBot> 2023. 2. 8. 오후 3:16:24 - 체결상세(분) 업데이트 - 에이프로젠 - ➕ 31억 4천➖-28억 0천🟰 3억 3천 -  https://t.co/QVqkra0kj1  #thdtjsdn #message #주식 #NASDAQ #BTC\n",
            "1623204071732817920 2023-02-08 06:16:23 +0000 <TtwStockBot> 2023. 2. 8. 오후 3:16:19 - 체결상세(분) 업데이트 - 셀트리온제약 - ➕ 12억 3천➖-21억 3천🟰-9억 0천 -  https://t.co/P8UoynRbRe  #thdtjsdn #message #주식 #NASDAQ #BTC\n",
            "1623203966325751814 2023-02-08 06:15:57 +0000 <TtwStockBot> 음성 나쁘지 않았는데 내일 함더 이상태로 해보고 ㅋㅋㅋ  #thdtjsdn #message #주식 #NASDAQ #BTC\n",
            "1623203170565648385 2023-02-08 06:12:48 +0000 <TtwStockBot> 2023. 2. 8. 오후 3:12:44 - 체결상세(분) 업데이트 - MDS테크 - ➕ 1051억 9천➖-1244억 0천🟰-192억 0천 -  https://t.co/kyReqjoZrO  #thdtjsdn #message #주식 #NASDAQ #BTC\n",
            "1623203092115394560 2023-02-08 06:12:29 +0000 <sonnyk87> @bluewolfpack1 I’m not long asx btw I’ve long nasdaq  Because the trend is up   Until then  (Or until I get stopped out 😝)  https://t.co/g6ADi6kBx5\n",
            "1623203054924230656 2023-02-08 06:12:20 +0000 <BIG_NEWS_07> onsemi (NASDAQ:ON) Approves Stock Buyback Program  https://t.co/oQwfk8cmbA\n",
            "1623203036054056961 2023-02-08 06:12:16 +0000 <CRYPTO_NEWS_07> onsemi (NASDAQ:ON) Approves Stock Buyback Program  https://t.co/EtZrAI35Ys\n",
            "1623203021751717889 2023-02-08 06:12:12 +0000 <TtwStockBot> 에스엠 던짐  #thdtjsdn #message #주식 #NASDAQ #BTC\n",
            "1623202963681427459 2023-02-08 06:11:58 +0000 <hansahgazan> Galapagos: Deeply Into Negative EV Territory, Exciting BD Optionality, Buy (NASDAQ:GLPG)  https://t.co/kYL4YNsVdD\n",
            "1623202750900101122 2023-02-08 06:11:08 +0000 <noalocation> @Lazosaure clairement pas tu px dire ça sur les familles Ford ou des gros indus, mais tt ce qui est Nasdaq c’est en général des mecs qui ont eu une idée et qui l’ont développé\n",
            "1623202698706440192 2023-02-08 06:10:55 +0000 <JOno2024> NASDAQ 2月中に15000行くか！？\n",
            "1623202483957899266 2023-02-08 06:10:04 +0000 <Stefhan27265797> Whole Earth Brands Stock: Revenues Continue To Climb Quarterly (NASDAQ:FREE)  https://t.co/l3lfMAX22Z\n",
            "1623202259634126848 2023-02-08 06:09:10 +0000 <TtwStockBot> 에스엠 저걸 뚫을까? ㅋㅋㅋ 던질까? ㅋㅋㅋ  #thdtjsdn #message #주식 #NASDAQ #BTC\n",
            "1623201926828687360 2023-02-08 06:07:51 +0000 <TtwStockBot> 비트나인 가누? ㅋㅋ 개같은놈들 ㅋㅋㅋㅋ  #thdtjsdn #message #주식 #NASDAQ #BTC\n",
            "1623201872348860416 2023-02-08 06:07:38 +0000 <TtwStockBot> 에코프로는 6일째 상승 ㅎㅎ  #thdtjsdn #message #주식 #NASDAQ #BTC\n",
            "1623201806863179777 2023-02-08 06:07:23 +0000 <TtwStockBot> 2023. 2. 8. 오후 3:07:19 - 체결상세(분) 업데이트 - 갤럭시아머니트리 - ➕ 210억 1천➖-231억 1천🟰-21억 0천 -  https://t.co/kMZcr8EEfE  #thdtjsdn #message #주식 #NASDAQ #BTC\n",
            "1623201338145243137 2023-02-08 06:05:31 +0000 <finanztrends_tv> Mighty Flower: How Cannabis Saved My Son, ein Buch von Dr. Annabelle Manalo-Morgan, Ph.D. über die Heilkräfte der Marihuana-Pflanze ist jetzt auf Amazon (NASDAQ:AMZN) erhältlich. Mighty Flower ist zum Teil eine herzliche Erinnerung, zum Teil eine Erkund…  https://t.co/OZ3iu6oLRX\n",
            "1623201305010311168 2023-02-08 06:05:23 +0000 <StockMarkets_F1> Microsoft To Add AI Tech 'More Powerful' Than ChatGPT To Bing Search, Edge Browser - Microsoft (NASDAQ:MSFT) -  https://t.co/ascnF7fheI  https://t.co/pnP4EJcKjj\n",
            "1623201260999671810 2023-02-08 06:05:12 +0000 <lazereyes_> 🚨 Rent the Runway Stock (NASDAQ:RENT) Presents an Opportunity as Wardrobes Get Upgraded: By most measures, fashion-sharing platform Rent the Runway (  NASDAQ:RENT ) represents a risky endeavor. Nevertheless, because of…  https://t.co/IU18D9HdOE ❤️＆🔁 #Stocks #Nasdaq #Invest  https://t.co/um0Wel5AoF\n",
            "1623201245141012481 2023-02-08 06:05:09 +0000 <lazereyes_> 🚨 Looking for Exposure to Bitcoin? These 2 Small Bitcoin Mining Stocks Are a ‘Must-Own,’ According to One Analyst: The end goal of investing is profit, and few investments have shown the long-term profit of bitcoin. Yes,…  https://t.co/x7A5bwfIqX ❤️＆🔁 #Stocks #Nasdaq #Invest  https://t.co/0XTpIaaFHz\n",
            "1623201229466923008 2023-02-08 06:05:05 +0000 <lazereyes_> 🚨 Loop Media, Inc. (LPTV) Reports Q1 Loss, Tops Revenue Estimates: Loop Media, Inc. (LPTV) came out with a quarterly loss of $0.09 per share versus the Zacks Consensus Estimate of a loss of $0.10. This compares to loss…  https://t.co/f8oytspvph ❤️＆🔁 #Stocks #Nasdaq #Invest  https://t.co/MhyRFibXTF\n",
            "1623201178023772161 2023-02-08 06:04:53 +0000 <TtwStockBot> 2023. 2. 8. 오후 3:04:49 - 체결상세(분) 업데이트 - 갤럭시아머니트리 - ➕ 208억 5천➖-231억 1천🟰-22억 6천 -  https://t.co/kMZcr8EEfE  #thdtjsdn #message #주식 #NASDAQ #BTC\n",
            "1623200997622554625 2023-02-08 06:04:10 +0000 <otntn_5454> @Yoyu_no_Yotchan @jctcardcom NASDAQ3倍ベアが火噴いてテンション爆上がりの先生を早く見たい😌🔥\n",
            "1623200953892757505 2023-02-08 06:03:59 +0000 <NewportTrump> @NasdaqExchange @Nasdaq @PuroCO2Removal There is no climate change stop your lies\n",
            "1623200794450460672 2023-02-08 06:03:21 +0000 <equialpha> Large cap leaders charts like pidilite, asian paints, relaxo etc are not good. Only way Nifty can move up is financials, Auto &amp; IT   Nasdaq has shown good move recently - Nifty IT may follow\n",
            "1623200314185895936 2023-02-08 06:01:27 +0000 <GeorgeMentz> Why LIZHI (LIZI) Shares Are Trading Higher Today - Lizhi (NASDAQ:LIZI)  https://t.co/gYvQDcDkyB @fintech #wealthmanagement\n",
            "1623199965706174464 2023-02-08 06:00:04 +0000 <TimesNewsEng> S&amp;P 500, Nasdaq edge higher on Microsoft boost; Powell comments eyed   https://t.co/Dh3dEgW8BH  #TimesNews #BreakingNews  https://t.co/TaF6uMyY8W\n",
            "1623199924585398272 2023-02-08 05:59:54 +0000 <TtwStockBot> 2023. 2. 8. 오후 2:59:50 - 체결상세(분) 업데이트 - 에스엠 - ➕ 595억 7천➖-681억 8천🟰-86억 0천 -  https://t.co/76EWuKUifS  #thdtjsdn #message #주식 #NASDAQ #BTC\n",
            "1623199819849424897 2023-02-08 05:59:29 +0000 <TtwStockBot> 2023. 2. 8. 오후 2:59:25 - 체결상세(분) 업데이트 - 에코프로 - ➕ 694억 4천➖-844억 4천🟰-150억 0천 -  https://t.co/UHbWcDHZAp  #thdtjsdn #message #주식 #NASDAQ #BTC\n",
            "1623199751670992898 2023-02-08 05:59:13 +0000 <Nancy38961417> #NASDAQ is trading around 12780. If it sustains above the level of 12800 then it can test the level of 12830, 12860 &amp; 12900 as well.   On the other side if it comes down below the level of 12750 then it can retest the level of 12720, 12690 &amp; 12650 as well.\n",
            "1623199669252919298 2023-02-08 05:58:53 +0000 <krunalparab_> #NIFTY is going to overtake #NASDAQ in the next 1.5 to 2 Years!  ✅ Not by Price but by % ✅ Not by Fiis but by Diis. ✅ Not by Phisical based but by AI based.  That's why from the past 5 months brokers are adding Custom TF options, AI &amp; BETA versions. #Insider  #StockMarket\n",
            "1623199618006765569 2023-02-08 05:58:41 +0000 <Ainvest_Wire> Chinese social media Zhihu jumps as much as 57% in HK. $ZH #Ainvest #Ainvest_Wire #Nasdaq #tradingpsychology #investinyou  View more:  https://t.co/RoG3eime4L  https://t.co/NRd7WGpnBs\n",
            "1623199612562735104 2023-02-08 05:58:39 +0000 <Zacsigma> #NASDAQ Trend Analysis over H4 timeframe For Signals and Assistance Can join our Whatsapp Group   👇  https://t.co/wy0MMyqrrD 👇  https://t.co/11fgSmhW8a  #XAUUSD #Trading #trade #TradingView #Us100 #SIGNAL #US30 #Dax #Fx #XAU #gbpaud #forextrader #forex #investors #USA #GBPUSD  https://t.co/VHD1gEGR89\n",
            "1623199521139310593 2023-02-08 05:58:18 +0000 <gordy_norman> \"Costco: Great Company But Expensive (NASDAQ:COST)\" via @SeekingAlpha  Trending #costcowholesalecorporation news with frequent shares and strong engagement across social media.  Social Insights:  https://t.co/X5Px1akmW7 $cost  Source👇 https://t.co/WnTv0OmIus  https://t.co/Cry5L5ADbN\n",
            "1623199309440208896 2023-02-08 05:57:27 +0000 <Sir_L3X> Earn $1000/Day with  stupefying  🧩  $NASDAQ  📈  #VTX  👀  #TradingSignal  💰  wondrous  ⚡️  $XRP  🤑  #ATOM  🔗  #ProfitingMe  🔱  #Design  💸  #Shiba  📎  #MoneyLine  🍀 terrific  📎  $GMT  🤟  #BSC  🌏  #Quotes     https://t.co/uIq0rInAwt\n",
            "1623199171477147648 2023-02-08 05:56:54 +0000 <Marcus_Today> #ASX200 rallied 26 points to 7530 (+0.4%). Results in focus. $BLD shows pricing power, up 12.8%, with $CSR following in its wake. #Resources attracting buyers again. $BHP up 0.2%, $RIO up 1.1%.  Dow Futures down 22 points, #NASDAQ Futures up 4 points.   https://t.co/TvzEmW4iOR\n",
            "1623199097158270976 2023-02-08 05:56:37 +0000 <marketsugarbaby> @JaviCharts @_JSpooz na you can start small. With $500, you can comfortably trade micros and grow from there. You 100 bucks to trade micro Nasdaq. lol.\n",
            "1623199019173552129 2023-02-08 05:56:18 +0000 <TtwStockBot> 2023. 2. 8. 오후 2:56:14 - 체결상세(분) 업데이트 - 비트나인 - ➕ 142억 9천➖-180억 3천🟰-37억 3천 -  https://t.co/LwjsCTUB08  #thdtjsdn #message #주식 #NASDAQ #BTC\n",
            "1623198707175854081 2023-02-08 05:55:04 +0000 <GeorgeMentz> Why LIZHI (LIZI) Shares Are Trading Higher Today - Lizhi (NASDAQ:LIZI)  https://t.co/uft1cfjJhi\n",
            "1623198442217414656 2023-02-08 05:54:00 +0000 <bwifi1228> ✅聴く読書なら30日間無料『年商10億円以下の小さな会社がNASDAQに上場する方法』 神野 純孝  https://t.co/s5COCBjlY7 69\n",
            "1623198411053989890 2023-02-08 05:53:53 +0000 <mukeshxl> Thanks to #Hindenburg and @RahulGandhi for giving us opportunity to buy Adani Group shares at low prices in which we have already made money in past week.  Keep doing it for some NASDAQ listed shares as well so that We can buy some quality stocks there as well.\n",
            "1623198369274544128 2023-02-08 05:53:43 +0000 <TtwStockBot> 2023. 2. 8. 오후 2:53:39 - 체결상세(분) 업데이트 - 실리콘투 - ➕ 23억 9천➖-50억 7천🟰-26억 7천 -  https://t.co/6cBa5RBGrY  #thdtjsdn #message #주식 #NASDAQ #BTC\n",
            "1623198333215858692 2023-02-08 05:53:34 +0000 <ikswotug> @brianmastrewowt @BethMastre @iannarino @Nasdaq Neat.\n",
            "1623198242266820608 2023-02-08 05:53:13 +0000 <TtwStockBot> 2023. 2. 8. 오후 2:53:09 - 체결상세(분) 업데이트 - 에코프로 - ➕ 660억 0천➖-833억 8천🟰-173억 8천 -  https://t.co/UHbWcDHZAp  #thdtjsdn #message #주식 #NASDAQ #BTC\n",
            "1623198141960048640 2023-02-08 05:52:49 +0000 <TtwStockBot> 2023. 2. 8. 오후 2:52:45 - 체결상세(분) 업데이트 - MDS테크 - ➕ 1037억 4천➖-1131억 5천🟰-94억 1천 -  https://t.co/kyReqjoZrO  #thdtjsdn #message #주식 #NASDAQ #BTC\n",
            "1623198104479494144 2023-02-08 05:52:40 +0000 <zobjobsGB> Senior Legal Counsel, EMEA at Matterport Matterport Inc Nasdaq MTTR is leading the digital transformation of the built world Our groundbreaking spatial data platform turns buildings i... #Legal #epicjobs   https://t.co/lmNGc7Na9C\n",
            "1623197613884600320 2023-02-08 05:50:43 +0000 <TtwStockBot> 2023. 2. 8. 오후 2:50:39 - 체결상세(분) 업데이트 - MDS테크 - ➕ 1020억 6천➖-1131억 5천🟰-110억 9천 -  https://t.co/kyReqjoZrO  #thdtjsdn #message #주식 #NASDAQ #BTC\n",
            "1623197557018046464 2023-02-08 05:50:29 +0000 <yogiliman> Nasdaq-listed Freshworks posts 26% rise in Q4 revenue  https://t.co/CEokbL4RIZ #startup #technology\n",
            "1623197193069789188 2023-02-08 05:49:03 +0000 <sulsitodisimone> 8 Febbraio 1971 � Debutta un nuovo mercato borsistico statunitense: il Nasdaq  https://t.co/8MX70eg2Jw  https://t.co/bT5Np3uwsi\n",
            "1623197080796946432 2023-02-08 05:48:36 +0000 <niaga_pasar> MY STOCKS PICK: NASDAQ (NASDAQ STOCK EXCHANGE)  DISCLAIMER: THIS ISN'T A BUY CALL. IT'S MY LISTING. DO YOUR OWN ANALYSIS. TRADE AT YOUR OWN RISK.   https://t.co/qS8kWpZrJO  #NASDAQStockExchange #NASDAQ #Stock #Exchange #USA #America #NewYork #equity #saham  https://t.co/JE1o6RYnBW\n",
            "1623196926488477696 2023-02-08 05:47:59 +0000 <Starsglobalzh> Jackson Wang sending Lantern Fetival wish at Nasdaq, Times Square.  #Dooh  #outdooradvertising #옥외광고  #屋外広告  https://t.co/MEvkXhjYc2\n",
            "1623196821412618240 2023-02-08 05:47:34 +0000 <marktadvisor> Así va PAYPAL, siguiendo el camino naranja,  a ver qué sucede en la sesión de hoy.....y sobre todo mañana, que presenta los resultados.  #PAYPAL $PYPAL  #NASDAQ $NDX #pagos #payments #onlinepayments #pagosonline  https://t.co/BSGztPdX04\n",
            "1623196793788833792 2023-02-08 05:47:27 +0000 <Sir_L3X> Rake in $$$ per day with  staggering  🌎  $CRO  💵  #ZIL   🧧  #Altcoin  🎨  skilful  🎰  $DOT  💫  #ICP  🎯  #Profitec  🎯  #Swag  🧩  #BasisCoin  💫  #MoneyFromHome  🌎 superb  📈  $NASDAQ  💱  #BSC  🎯  #Signals     https://t.co/uIq0rInAwt\n",
            "1623196159341694976 2023-02-08 05:44:56 +0000 <storminvestor> First Trust NASDAQ-100-Technology Sector Index Fund $QTEC Stock Price Up 3%   https://t.co/edd67W8t1Y #markets\n",
            "1623196151825539073 2023-02-08 05:44:54 +0000 <lucms28> @SantinoCripto Btc subió por que primero el syp500 y el nasdaq se dispararon muchísimo.  De donde sacas que la macro no incide en btc . Incide 10 veces más que el halving.  Sabes donde te vas a meter el halving si en ese momento ese mismo día sale powell y dice subo las tasas al 8 porciento\n",
            "1623196133924257793 2023-02-08 05:44:50 +0000 <StockMarkets_F1> Tesla, Enphase, Chipotle, Uber, Baidu: Top 5 Trending Stocks - Enphase Energy (NASDAQ:ENPH), Tesla (NASDAQ:TSLA) -  https://t.co/kpDOYkTIFP  https://t.co/v4uQEhc4XH\n",
            "1623196030568394752 2023-02-08 05:44:25 +0000 <TtwStockBot> 비트나인 막판에 쏘네 ㅋㅋ  #thdtjsdn #message #주식 #NASDAQ #BTC\n",
            "1623195886397575169 2023-02-08 05:43:51 +0000 <richtv_io> Fundamental occurrences: FOMC member speech and US 10-year bond auction #stockmarket #nasdaq #sp500 #nyse #gold ‍‍\n",
            "1623195767388389376 2023-02-08 05:43:23 +0000 <TtwStockBot> 2023. 2. 8. 오후 2:43:19 - 체결상세(분) 업데이트 - 호텔신라 - ➕ 56억 7천➖-26억 8천🟰 29억 8천 -  https://t.co/SP3Y0UHx9x  #thdtjsdn #message #주식 #NASDAQ #BTC\n"
          ]
        }
      ]
    },
    {
      "cell_type": "code",
      "source": [
        "def column_names():\n",
        "    return twint.output.panda.Tweets_df.columns\n",
        "def twint_to_pd(columns):\n",
        "    return twint.output.panda.Tweets_df[columns]\n",
        "column_names()"
      ],
      "metadata": {
        "colab": {
          "base_uri": "https://localhost:8080/"
        },
        "id": "xsLl3L_8iWeM",
        "outputId": "a78c62e2-885a-4cf0-91cb-9f0497e68ac3"
      },
      "execution_count": 9,
      "outputs": [
        {
          "output_type": "execute_result",
          "data": {
            "text/plain": [
              "Index(['id', 'conversation_id', 'created_at', 'date', 'timezone', 'place',\n",
              "       'tweet', 'language', 'hashtags', 'cashtags', 'user_id', 'user_id_str',\n",
              "       'username', 'name', 'day', 'hour', 'link', 'urls', 'photos', 'video',\n",
              "       'thumbnail', 'retweet', 'nlikes', 'nreplies', 'nretweets', 'quote_url',\n",
              "       'search', 'near', 'geo', 'source', 'user_rt_id', 'user_rt',\n",
              "       'retweet_id', 'reply_to', 'retweet_date', 'translate', 'trans_src',\n",
              "       'trans_dest'],\n",
              "      dtype='object')"
            ]
          },
          "metadata": {},
          "execution_count": 9
        }
      ]
    },
    {
      "cell_type": "code",
      "source": [
        "tweet_df = twint_to_pd([\"date\", \"username\", \"tweet\", \"hashtags\"])\n",
        "tweet_df.head(10)"
      ],
      "metadata": {
        "colab": {
          "base_uri": "https://localhost:8080/",
          "height": 407
        },
        "id": "5F9zKhN-lHe1",
        "outputId": "032edad8-231d-4ad1-84d9-27f82a3f09bd"
      },
      "execution_count": 10,
      "outputs": [
        {
          "output_type": "execute_result",
          "data": {
            "text/plain": [
              "                  date         username  \\\n",
              "0  2023-02-08 06:17:27          Sir_L3X   \n",
              "1  2023-02-08 06:16:48  EricButler85233   \n",
              "2  2023-02-08 06:16:28      TtwStockBot   \n",
              "3  2023-02-08 06:16:23      TtwStockBot   \n",
              "4  2023-02-08 06:15:57      TtwStockBot   \n",
              "5  2023-02-08 06:12:48      TtwStockBot   \n",
              "6  2023-02-08 06:12:29         sonnyk87   \n",
              "7  2023-02-08 06:12:20      BIG_NEWS_07   \n",
              "8  2023-02-08 06:12:16   CRYPTO_NEWS_07   \n",
              "9  2023-02-08 06:12:12      TtwStockBot   \n",
              "\n",
              "                                               tweet  \\\n",
              "0  $$$$ crypto trade hack with  surprising  🏧  $U...   \n",
              "1  @TheRightMelissa @RonFilipkowski All of this i...   \n",
              "2  2023. 2. 8. 오후 3:16:24 - 체결상세(분) 업데이트 - 에이프로젠 ...   \n",
              "3  2023. 2. 8. 오후 3:16:19 - 체결상세(분) 업데이트 - 셀트리온제약...   \n",
              "4  음성 나쁘지 않았는데 내일 함더 이상태로 해보고 ㅋㅋㅋ  #thdtjsdn #mes...   \n",
              "5  2023. 2. 8. 오후 3:12:44 - 체결상세(분) 업데이트 - MDS테크 ...   \n",
              "6  @bluewolfpack1 I’m not long asx btw I’ve long ...   \n",
              "7  onsemi (NASDAQ:ON) Approves Stock Buyback Prog...   \n",
              "8  onsemi (NASDAQ:ON) Approves Stock Buyback Prog...   \n",
              "9        에스엠 던짐  #thdtjsdn #message #주식 #NASDAQ #BTC   \n",
              "\n",
              "                                            hashtags  \n",
              "0  [avax, technicalanalysis, fina, profitfam, vir...  \n",
              "1                                                 []  \n",
              "2               [thdtjsdn, message, 주식, nasdaq, btc]  \n",
              "3               [thdtjsdn, message, 주식, nasdaq, btc]  \n",
              "4               [thdtjsdn, message, 주식, nasdaq, btc]  \n",
              "5               [thdtjsdn, message, 주식, nasdaq, btc]  \n",
              "6                                                 []  \n",
              "7                                                 []  \n",
              "8                                                 []  \n",
              "9               [thdtjsdn, message, 주식, nasdaq, btc]  "
            ],
            "text/html": [
              "\n",
              "  <div id=\"df-d2837009-4f35-462c-9238-d68995a7aa85\">\n",
              "    <div class=\"colab-df-container\">\n",
              "      <div>\n",
              "<style scoped>\n",
              "    .dataframe tbody tr th:only-of-type {\n",
              "        vertical-align: middle;\n",
              "    }\n",
              "\n",
              "    .dataframe tbody tr th {\n",
              "        vertical-align: top;\n",
              "    }\n",
              "\n",
              "    .dataframe thead th {\n",
              "        text-align: right;\n",
              "    }\n",
              "</style>\n",
              "<table border=\"1\" class=\"dataframe\">\n",
              "  <thead>\n",
              "    <tr style=\"text-align: right;\">\n",
              "      <th></th>\n",
              "      <th>date</th>\n",
              "      <th>username</th>\n",
              "      <th>tweet</th>\n",
              "      <th>hashtags</th>\n",
              "    </tr>\n",
              "  </thead>\n",
              "  <tbody>\n",
              "    <tr>\n",
              "      <th>0</th>\n",
              "      <td>2023-02-08 06:17:27</td>\n",
              "      <td>Sir_L3X</td>\n",
              "      <td>$$$$ crypto trade hack with  surprising  🏧  $U...</td>\n",
              "      <td>[avax, technicalanalysis, fina, profitfam, vir...</td>\n",
              "    </tr>\n",
              "    <tr>\n",
              "      <th>1</th>\n",
              "      <td>2023-02-08 06:16:48</td>\n",
              "      <td>EricButler85233</td>\n",
              "      <td>@TheRightMelissa @RonFilipkowski All of this i...</td>\n",
              "      <td>[]</td>\n",
              "    </tr>\n",
              "    <tr>\n",
              "      <th>2</th>\n",
              "      <td>2023-02-08 06:16:28</td>\n",
              "      <td>TtwStockBot</td>\n",
              "      <td>2023. 2. 8. 오후 3:16:24 - 체결상세(분) 업데이트 - 에이프로젠 ...</td>\n",
              "      <td>[thdtjsdn, message, 주식, nasdaq, btc]</td>\n",
              "    </tr>\n",
              "    <tr>\n",
              "      <th>3</th>\n",
              "      <td>2023-02-08 06:16:23</td>\n",
              "      <td>TtwStockBot</td>\n",
              "      <td>2023. 2. 8. 오후 3:16:19 - 체결상세(분) 업데이트 - 셀트리온제약...</td>\n",
              "      <td>[thdtjsdn, message, 주식, nasdaq, btc]</td>\n",
              "    </tr>\n",
              "    <tr>\n",
              "      <th>4</th>\n",
              "      <td>2023-02-08 06:15:57</td>\n",
              "      <td>TtwStockBot</td>\n",
              "      <td>음성 나쁘지 않았는데 내일 함더 이상태로 해보고 ㅋㅋㅋ  #thdtjsdn #mes...</td>\n",
              "      <td>[thdtjsdn, message, 주식, nasdaq, btc]</td>\n",
              "    </tr>\n",
              "    <tr>\n",
              "      <th>5</th>\n",
              "      <td>2023-02-08 06:12:48</td>\n",
              "      <td>TtwStockBot</td>\n",
              "      <td>2023. 2. 8. 오후 3:12:44 - 체결상세(분) 업데이트 - MDS테크 ...</td>\n",
              "      <td>[thdtjsdn, message, 주식, nasdaq, btc]</td>\n",
              "    </tr>\n",
              "    <tr>\n",
              "      <th>6</th>\n",
              "      <td>2023-02-08 06:12:29</td>\n",
              "      <td>sonnyk87</td>\n",
              "      <td>@bluewolfpack1 I’m not long asx btw I’ve long ...</td>\n",
              "      <td>[]</td>\n",
              "    </tr>\n",
              "    <tr>\n",
              "      <th>7</th>\n",
              "      <td>2023-02-08 06:12:20</td>\n",
              "      <td>BIG_NEWS_07</td>\n",
              "      <td>onsemi (NASDAQ:ON) Approves Stock Buyback Prog...</td>\n",
              "      <td>[]</td>\n",
              "    </tr>\n",
              "    <tr>\n",
              "      <th>8</th>\n",
              "      <td>2023-02-08 06:12:16</td>\n",
              "      <td>CRYPTO_NEWS_07</td>\n",
              "      <td>onsemi (NASDAQ:ON) Approves Stock Buyback Prog...</td>\n",
              "      <td>[]</td>\n",
              "    </tr>\n",
              "    <tr>\n",
              "      <th>9</th>\n",
              "      <td>2023-02-08 06:12:12</td>\n",
              "      <td>TtwStockBot</td>\n",
              "      <td>에스엠 던짐  #thdtjsdn #message #주식 #NASDAQ #BTC</td>\n",
              "      <td>[thdtjsdn, message, 주식, nasdaq, btc]</td>\n",
              "    </tr>\n",
              "  </tbody>\n",
              "</table>\n",
              "</div>\n",
              "      <button class=\"colab-df-convert\" onclick=\"convertToInteractive('df-d2837009-4f35-462c-9238-d68995a7aa85')\"\n",
              "              title=\"Convert this dataframe to an interactive table.\"\n",
              "              style=\"display:none;\">\n",
              "        \n",
              "  <svg xmlns=\"http://www.w3.org/2000/svg\" height=\"24px\"viewBox=\"0 0 24 24\"\n",
              "       width=\"24px\">\n",
              "    <path d=\"M0 0h24v24H0V0z\" fill=\"none\"/>\n",
              "    <path d=\"M18.56 5.44l.94 2.06.94-2.06 2.06-.94-2.06-.94-.94-2.06-.94 2.06-2.06.94zm-11 1L8.5 8.5l.94-2.06 2.06-.94-2.06-.94L8.5 2.5l-.94 2.06-2.06.94zm10 10l.94 2.06.94-2.06 2.06-.94-2.06-.94-.94-2.06-.94 2.06-2.06.94z\"/><path d=\"M17.41 7.96l-1.37-1.37c-.4-.4-.92-.59-1.43-.59-.52 0-1.04.2-1.43.59L10.3 9.45l-7.72 7.72c-.78.78-.78 2.05 0 2.83L4 21.41c.39.39.9.59 1.41.59.51 0 1.02-.2 1.41-.59l7.78-7.78 2.81-2.81c.8-.78.8-2.07 0-2.86zM5.41 20L4 18.59l7.72-7.72 1.47 1.35L5.41 20z\"/>\n",
              "  </svg>\n",
              "      </button>\n",
              "      \n",
              "  <style>\n",
              "    .colab-df-container {\n",
              "      display:flex;\n",
              "      flex-wrap:wrap;\n",
              "      gap: 12px;\n",
              "    }\n",
              "\n",
              "    .colab-df-convert {\n",
              "      background-color: #E8F0FE;\n",
              "      border: none;\n",
              "      border-radius: 50%;\n",
              "      cursor: pointer;\n",
              "      display: none;\n",
              "      fill: #1967D2;\n",
              "      height: 32px;\n",
              "      padding: 0 0 0 0;\n",
              "      width: 32px;\n",
              "    }\n",
              "\n",
              "    .colab-df-convert:hover {\n",
              "      background-color: #E2EBFA;\n",
              "      box-shadow: 0px 1px 2px rgba(60, 64, 67, 0.3), 0px 1px 3px 1px rgba(60, 64, 67, 0.15);\n",
              "      fill: #174EA6;\n",
              "    }\n",
              "\n",
              "    [theme=dark] .colab-df-convert {\n",
              "      background-color: #3B4455;\n",
              "      fill: #D2E3FC;\n",
              "    }\n",
              "\n",
              "    [theme=dark] .colab-df-convert:hover {\n",
              "      background-color: #434B5C;\n",
              "      box-shadow: 0px 1px 3px 1px rgba(0, 0, 0, 0.15);\n",
              "      filter: drop-shadow(0px 1px 2px rgba(0, 0, 0, 0.3));\n",
              "      fill: #FFFFFF;\n",
              "    }\n",
              "  </style>\n",
              "\n",
              "      <script>\n",
              "        const buttonEl =\n",
              "          document.querySelector('#df-d2837009-4f35-462c-9238-d68995a7aa85 button.colab-df-convert');\n",
              "        buttonEl.style.display =\n",
              "          google.colab.kernel.accessAllowed ? 'block' : 'none';\n",
              "\n",
              "        async function convertToInteractive(key) {\n",
              "          const element = document.querySelector('#df-d2837009-4f35-462c-9238-d68995a7aa85');\n",
              "          const dataTable =\n",
              "            await google.colab.kernel.invokeFunction('convertToInteractive',\n",
              "                                                     [key], {});\n",
              "          if (!dataTable) return;\n",
              "\n",
              "          const docLinkHtml = 'Like what you see? Visit the ' +\n",
              "            '<a target=\"_blank\" href=https://colab.research.google.com/notebooks/data_table.ipynb>data table notebook</a>'\n",
              "            + ' to learn more about interactive tables.';\n",
              "          element.innerHTML = '';\n",
              "          dataTable['output_type'] = 'display_data';\n",
              "          await google.colab.output.renderOutput(dataTable, element);\n",
              "          const docLink = document.createElement('div');\n",
              "          docLink.innerHTML = docLinkHtml;\n",
              "          element.appendChild(docLink);\n",
              "        }\n",
              "      </script>\n",
              "    </div>\n",
              "  </div>\n",
              "  "
            ]
          },
          "metadata": {},
          "execution_count": 10
        }
      ]
    },
    {
      "cell_type": "code",
      "source": [
        "tweet_list = tweet_df['tweet'].tolist()"
      ],
      "metadata": {
        "id": "MGFDJfsvl5kT"
      },
      "execution_count": 11,
      "outputs": []
    },
    {
      "cell_type": "code",
      "source": [
        "import json\n",
        "#Store you OpenAPI key in a json file\n",
        "OPENAI_API_KEY = ''\n",
        "with open('/content/OpenAI.json', 'r') as file_to_read:\n",
        "    json_data = json.load(file_to_read)\n",
        "    OPENAI_API_KEY = json_data[\"OPENAI_API_KEY\"]"
      ],
      "metadata": {
        "id": "8xGifNw-mCsW"
      },
      "execution_count": 13,
      "outputs": []
    },
    {
      "cell_type": "code",
      "source": [
        "import os\n",
        "import openai\n",
        "\n",
        "openai.api_key =  OPENAI_API_KEY"
      ],
      "metadata": {
        "id": "eOiJ304NlKjC"
      },
      "execution_count": 14,
      "outputs": []
    },
    {
      "cell_type": "code",
      "source": [
        "response = openai.Completion.create(\n",
        "  model=\"text-davinci-003\",\n",
        "  prompt=\"Classify the sentiment in these tweets:\\n\\n1. \\\"I can't stand homework\\\"\\n2. \\\"This sucks. I'm bored 😠\\\"\\n3. \\\"I can't wait for Halloween!!!\\\"\\n4. \\\"My cat is adorable ❤️❤️\\\"\\n5. \\\"I hate chocolate\\\"\\n\\nTweet sentiment ratings:\",\n",
        "  temperature=0,\n",
        "  max_tokens=60,\n",
        "  top_p=1.0,\n",
        "  frequency_penalty=0.0,\n",
        "  presence_penalty=0.0\n",
        ")"
      ],
      "metadata": {
        "id": "8BPSF_TSn-GY"
      },
      "execution_count": 15,
      "outputs": []
    },
    {
      "cell_type": "code",
      "source": [
        "i =1\n",
        "tweet_str=''\n",
        "for tweet in tweet_list:\n",
        "   tweet_str = tweet_str + str(i) +'.'+'\"'+tweet+'\"'+'\\n'\n",
        "   i=i+1\n",
        "   if i ==10:\n",
        "     break"
      ],
      "metadata": {
        "id": "0-ho50bUrXk1"
      },
      "execution_count": 16,
      "outputs": []
    },
    {
      "cell_type": "code",
      "source": [
        "prompt=\"Classify the sentiment in these tweets:\\n\" + tweet_str + \"\\n Tweet sentiment ratings:\""
      ],
      "metadata": {
        "id": "y_MIy90OrZ11"
      },
      "execution_count": 17,
      "outputs": []
    },
    {
      "cell_type": "code",
      "source": [
        "response = openai.Completion.create(\n",
        "  model=\"text-davinci-003\",\n",
        "  prompt= prompt,\n",
        "  temperature=0,\n",
        "  max_tokens=120,\n",
        "  top_p=1.0,\n",
        "  frequency_penalty=0.0,\n",
        "  presence_penalty=0.0\n",
        ")"
      ],
      "metadata": {
        "id": "PLXhaCMwrcv6"
      },
      "execution_count": 18,
      "outputs": []
    },
    {
      "cell_type": "code",
      "source": [
        "(response[\"choices\"][0][\"text\"]).split('\\n')"
      ],
      "metadata": {
        "colab": {
          "base_uri": "https://localhost:8080/"
        },
        "id": "NRpR7gRkrgFY",
        "outputId": "d4eff185-00a5-4fbb-cac3-be80b34a4490"
      },
      "execution_count": 19,
      "outputs": [
        {
          "output_type": "execute_result",
          "data": {
            "text/plain": [
              "['',\n",
              " '1. Positive',\n",
              " '2. Negative',\n",
              " '3. Neutral',\n",
              " '4. Neutral',\n",
              " '5. Neutral',\n",
              " '6. Neutral',\n",
              " '7. Positive',\n",
              " '8. Positive',\n",
              " '9. Positive']"
            ]
          },
          "metadata": {},
          "execution_count": 19
        }
      ]
    },
    {
      "cell_type": "code",
      "source": [
        "tweet_df.head(10)['tweet']"
      ],
      "metadata": {
        "colab": {
          "base_uri": "https://localhost:8080/"
        },
        "id": "mYbFle2Truw6",
        "outputId": "8d74b83f-d785-4e0a-8481-c218f2504c07"
      },
      "execution_count": 22,
      "outputs": [
        {
          "output_type": "execute_result",
          "data": {
            "text/plain": [
              "0    $$$$ crypto trade hack with  surprising  🏧  $U...\n",
              "1    @TheRightMelissa @RonFilipkowski All of this i...\n",
              "2    2023. 2. 8. 오후 3:16:24 - 체결상세(분) 업데이트 - 에이프로젠 ...\n",
              "3    2023. 2. 8. 오후 3:16:19 - 체결상세(분) 업데이트 - 셀트리온제약...\n",
              "4    음성 나쁘지 않았는데 내일 함더 이상태로 해보고 ㅋㅋㅋ  #thdtjsdn #mes...\n",
              "5    2023. 2. 8. 오후 3:12:44 - 체결상세(분) 업데이트 - MDS테크 ...\n",
              "6    @bluewolfpack1 I’m not long asx btw I’ve long ...\n",
              "7    onsemi (NASDAQ:ON) Approves Stock Buyback Prog...\n",
              "8    onsemi (NASDAQ:ON) Approves Stock Buyback Prog...\n",
              "9          에스엠 던짐  #thdtjsdn #message #주식 #NASDAQ #BTC\n",
              "Name: tweet, dtype: object"
            ]
          },
          "metadata": {},
          "execution_count": 22
        }
      ]
    },
    {
      "cell_type": "code",
      "source": [
        "tweet_df.head(10)['tweet'][4]"
      ],
      "metadata": {
        "colab": {
          "base_uri": "https://localhost:8080/",
          "height": 36
        },
        "id": "syvn2qNTtdij",
        "outputId": "f0c39020-e2b3-4212-8217-79e1539cc585"
      },
      "execution_count": 30,
      "outputs": [
        {
          "output_type": "execute_result",
          "data": {
            "text/plain": [
              "'음성 나쁘지 않았는데 내일 함더 이상태로 해보고 ㅋㅋㅋ  #thdtjsdn #message #주식 #NASDAQ #BTC'"
            ],
            "application/vnd.google.colaboratory.intrinsic+json": {
              "type": "string"
            }
          },
          "metadata": {},
          "execution_count": 30
        }
      ]
    },
    {
      "cell_type": "code",
      "source": [],
      "metadata": {
        "id": "WCsqHRvOtqZX"
      },
      "execution_count": null,
      "outputs": []
    }
  ]
}