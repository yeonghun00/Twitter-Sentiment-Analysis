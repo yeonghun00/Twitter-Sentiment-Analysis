{
  "nbformat": 4,
  "nbformat_minor": 0,
  "metadata": {
    "colab": {
      "provenance": [],
      "authorship_tag": "ABX9TyMzsPtY/WMygrQtlxw2vvtC",
      "include_colab_link": true
    },
    "kernelspec": {
      "name": "python3",
      "display_name": "Python 3"
    },
    "language_info": {
      "name": "python"
    }
  },
  "cells": [
    {
      "cell_type": "markdown",
      "metadata": {
        "id": "view-in-github",
        "colab_type": "text"
      },
      "source": [
        "<a href=\"https://colab.research.google.com/github/yeonghun00/Twitter-Sentiment-Analysis/blob/main/Market%20Sentiment%20Analysis.ipynb\" target=\"_parent\"><img src=\"https://colab.research.google.com/assets/colab-badge.svg\" alt=\"Open In Colab\"/></a>"
      ]
    },
    {
      "cell_type": "code",
      "source": [
        "!pip install nest-asyncio"
      ],
      "metadata": {
        "colab": {
          "base_uri": "https://localhost:8080/"
        },
        "id": "0jx1xbtThKvK",
        "outputId": "642c5375-e9c8-42c9-87db-9ab92f197128"
      },
      "execution_count": null,
      "outputs": [
        {
          "output_type": "stream",
          "name": "stdout",
          "text": [
            "Looking in indexes: https://pypi.org/simple, https://us-python.pkg.dev/colab-wheels/public/simple/\n",
            "Requirement already satisfied: nest-asyncio in /usr/local/lib/python3.8/dist-packages (1.5.6)\n"
          ]
        }
      ]
    },
    {
      "cell_type": "code",
      "source": [
        "import nest_asyncio \n",
        "nest_asyncio.apply()"
      ],
      "metadata": {
        "id": "barAYq5qhaeE"
      },
      "execution_count": null,
      "outputs": []
    },
    {
      "cell_type": "code",
      "source": [
        "!pip install openai"
      ],
      "metadata": {
        "colab": {
          "base_uri": "https://localhost:8080/"
        },
        "id": "FwJaJNKOoA3-",
        "outputId": "8c4cabc1-5c62-46ca-dbb8-8ad2621f729a"
      },
      "execution_count": null,
      "outputs": [
        {
          "output_type": "stream",
          "name": "stdout",
          "text": [
            "Looking in indexes: https://pypi.org/simple, https://us-python.pkg.dev/colab-wheels/public/simple/\n",
            "Requirement already satisfied: openai in /usr/local/lib/python3.8/dist-packages (0.26.5)\n",
            "Requirement already satisfied: tqdm in /usr/local/lib/python3.8/dist-packages (from openai) (4.64.1)\n",
            "Requirement already satisfied: requests>=2.20 in /usr/local/lib/python3.8/dist-packages (from openai) (2.25.1)\n",
            "Requirement already satisfied: aiohttp in /usr/local/lib/python3.8/dist-packages (from openai) (3.8.3)\n",
            "Requirement already satisfied: idna<3,>=2.5 in /usr/local/lib/python3.8/dist-packages (from requests>=2.20->openai) (2.10)\n",
            "Requirement already satisfied: certifi>=2017.4.17 in /usr/local/lib/python3.8/dist-packages (from requests>=2.20->openai) (2022.12.7)\n",
            "Requirement already satisfied: chardet<5,>=3.0.2 in /usr/local/lib/python3.8/dist-packages (from requests>=2.20->openai) (4.0.0)\n",
            "Requirement already satisfied: urllib3<1.27,>=1.21.1 in /usr/local/lib/python3.8/dist-packages (from requests>=2.20->openai) (1.26.14)\n",
            "Requirement already satisfied: charset-normalizer<3.0,>=2.0 in /usr/local/lib/python3.8/dist-packages (from aiohttp->openai) (2.1.1)\n",
            "Requirement already satisfied: frozenlist>=1.1.1 in /usr/local/lib/python3.8/dist-packages (from aiohttp->openai) (1.3.3)\n",
            "Requirement already satisfied: async-timeout<5.0,>=4.0.0a3 in /usr/local/lib/python3.8/dist-packages (from aiohttp->openai) (4.0.2)\n",
            "Requirement already satisfied: aiosignal>=1.1.2 in /usr/local/lib/python3.8/dist-packages (from aiohttp->openai) (1.3.1)\n",
            "Requirement already satisfied: attrs>=17.3.0 in /usr/local/lib/python3.8/dist-packages (from aiohttp->openai) (22.2.0)\n",
            "Requirement already satisfied: yarl<2.0,>=1.0 in /usr/local/lib/python3.8/dist-packages (from aiohttp->openai) (1.8.2)\n",
            "Requirement already satisfied: multidict<7.0,>=4.5 in /usr/local/lib/python3.8/dist-packages (from aiohttp->openai) (6.0.4)\n"
          ]
        }
      ]
    },
    {
      "cell_type": "code",
      "source": [
        "!pip install twint\n",
        "!pip3 install --user --upgrade \"git+https://github.com/twintproject/twint.git@origin/master#egg=twint\""
      ],
      "metadata": {
        "id": "crvOB2dR2k-J",
        "outputId": "38f53d34-5464-4c6d-97df-f463674c3670",
        "colab": {
          "base_uri": "https://localhost:8080/"
        }
      },
      "execution_count": null,
      "outputs": [
        {
          "output_type": "stream",
          "name": "stdout",
          "text": [
            "Looking in indexes: https://pypi.org/simple, https://us-python.pkg.dev/colab-wheels/public/simple/\n",
            "Requirement already satisfied: twint in /root/.local/lib/python3.8/site-packages (2.1.21)\n",
            "Requirement already satisfied: dataclasses in /root/.local/lib/python3.8/site-packages (from twint) (0.6)\n",
            "Requirement already satisfied: cchardet in /usr/local/lib/python3.8/dist-packages (from twint) (2.1.7)\n",
            "Requirement already satisfied: pysocks in /usr/local/lib/python3.8/dist-packages (from twint) (1.7.1)\n",
            "Requirement already satisfied: googletransx in /usr/local/lib/python3.8/dist-packages (from twint) (2.4.2)\n",
            "Requirement already satisfied: geopy in /usr/local/lib/python3.8/dist-packages (from twint) (1.17.0)\n",
            "Requirement already satisfied: aiohttp-socks in /usr/local/lib/python3.8/dist-packages (from twint) (0.7.1)\n",
            "Requirement already satisfied: schedule in /usr/local/lib/python3.8/dist-packages (from twint) (1.1.0)\n",
            "Requirement already satisfied: aiohttp in /usr/local/lib/python3.8/dist-packages (from twint) (3.8.3)\n",
            "Requirement already satisfied: fake-useragent in /usr/local/lib/python3.8/dist-packages (from twint) (1.1.1)\n",
            "Requirement already satisfied: elasticsearch in /usr/local/lib/python3.8/dist-packages (from twint) (8.6.1)\n",
            "Requirement already satisfied: pandas in /usr/local/lib/python3.8/dist-packages (from twint) (1.3.5)\n",
            "Requirement already satisfied: beautifulsoup4 in /usr/local/lib/python3.8/dist-packages (from twint) (4.6.3)\n",
            "Requirement already satisfied: aiodns in /usr/local/lib/python3.8/dist-packages (from twint) (3.0.0)\n",
            "Requirement already satisfied: pycares>=4.0.0 in /usr/local/lib/python3.8/dist-packages (from aiodns->twint) (4.3.0)\n",
            "Requirement already satisfied: attrs>=17.3.0 in /usr/local/lib/python3.8/dist-packages (from aiohttp->twint) (22.2.0)\n",
            "Requirement already satisfied: charset-normalizer<3.0,>=2.0 in /usr/local/lib/python3.8/dist-packages (from aiohttp->twint) (2.1.1)\n",
            "Requirement already satisfied: aiosignal>=1.1.2 in /usr/local/lib/python3.8/dist-packages (from aiohttp->twint) (1.3.1)\n",
            "Requirement already satisfied: frozenlist>=1.1.1 in /usr/local/lib/python3.8/dist-packages (from aiohttp->twint) (1.3.3)\n",
            "Requirement already satisfied: async-timeout<5.0,>=4.0.0a3 in /usr/local/lib/python3.8/dist-packages (from aiohttp->twint) (4.0.2)\n",
            "Requirement already satisfied: yarl<2.0,>=1.0 in /usr/local/lib/python3.8/dist-packages (from aiohttp->twint) (1.8.2)\n",
            "Requirement already satisfied: multidict<7.0,>=4.5 in /usr/local/lib/python3.8/dist-packages (from aiohttp->twint) (6.0.4)\n",
            "Requirement already satisfied: python-socks[asyncio]<3.0.0,>=2.0.0 in /usr/local/lib/python3.8/dist-packages (from aiohttp-socks->twint) (2.1.1)\n",
            "Requirement already satisfied: elastic-transport<9,>=8 in /usr/local/lib/python3.8/dist-packages (from elasticsearch->twint) (8.4.0)\n",
            "Requirement already satisfied: importlib-resources>=5.0 in /usr/local/lib/python3.8/dist-packages (from fake-useragent->twint) (5.10.2)\n",
            "Requirement already satisfied: geographiclib<2,>=1.49 in /usr/local/lib/python3.8/dist-packages (from geopy->twint) (1.52)\n",
            "Requirement already satisfied: requests in /usr/local/lib/python3.8/dist-packages (from googletransx->twint) (2.25.1)\n",
            "Requirement already satisfied: numpy>=1.17.3 in /usr/local/lib/python3.8/dist-packages (from pandas->twint) (1.21.6)\n",
            "Requirement already satisfied: python-dateutil>=2.7.3 in /usr/local/lib/python3.8/dist-packages (from pandas->twint) (2.8.2)\n",
            "Requirement already satisfied: pytz>=2017.3 in /usr/local/lib/python3.8/dist-packages (from pandas->twint) (2022.7.1)\n",
            "Requirement already satisfied: certifi in /usr/local/lib/python3.8/dist-packages (from elastic-transport<9,>=8->elasticsearch->twint) (2022.12.7)\n",
            "Requirement already satisfied: urllib3<2,>=1.26.2 in /usr/local/lib/python3.8/dist-packages (from elastic-transport<9,>=8->elasticsearch->twint) (1.26.14)\n",
            "Requirement already satisfied: zipp>=3.1.0 in /usr/local/lib/python3.8/dist-packages (from importlib-resources>=5.0->fake-useragent->twint) (3.12.0)\n",
            "Requirement already satisfied: cffi>=1.5.0 in /usr/local/lib/python3.8/dist-packages (from pycares>=4.0.0->aiodns->twint) (1.15.1)\n",
            "Requirement already satisfied: six>=1.5 in /usr/local/lib/python3.8/dist-packages (from python-dateutil>=2.7.3->pandas->twint) (1.15.0)\n",
            "Requirement already satisfied: idna>=2.0 in /usr/local/lib/python3.8/dist-packages (from yarl<2.0,>=1.0->aiohttp->twint) (2.10)\n",
            "Requirement already satisfied: chardet<5,>=3.0.2 in /usr/local/lib/python3.8/dist-packages (from requests->googletransx->twint) (4.0.0)\n",
            "Requirement already satisfied: pycparser in /usr/local/lib/python3.8/dist-packages (from cffi>=1.5.0->pycares>=4.0.0->aiodns->twint) (2.21)\n",
            "Looking in indexes: https://pypi.org/simple, https://us-python.pkg.dev/colab-wheels/public/simple/\n",
            "Collecting twint\n",
            "  Cloning https://github.com/twintproject/twint.git (to revision origin/master) to /tmp/pip-install-m60lkj6h/twint_e8077e07edc94660994f75dcb7e74256\n",
            "  Running command git clone --filter=blob:none --quiet https://github.com/twintproject/twint.git /tmp/pip-install-m60lkj6h/twint_e8077e07edc94660994f75dcb7e74256\n",
            "\u001b[33m  WARNING: Did not find branch or tag 'origin/master', assuming revision or ref.\u001b[0m\u001b[33m\n",
            "\u001b[0m  Running command git checkout -q origin/master\n",
            "  Resolved https://github.com/twintproject/twint.git to commit origin/master\n",
            "  Preparing metadata (setup.py) ... \u001b[?25l\u001b[?25hdone\n",
            "Requirement already satisfied: aiohttp in /usr/local/lib/python3.8/dist-packages (from twint) (3.8.3)\n",
            "Requirement already satisfied: aiodns in /usr/local/lib/python3.8/dist-packages (from twint) (3.0.0)\n",
            "Requirement already satisfied: beautifulsoup4 in /usr/local/lib/python3.8/dist-packages (from twint) (4.6.3)\n",
            "Requirement already satisfied: cchardet in /usr/local/lib/python3.8/dist-packages (from twint) (2.1.7)\n",
            "Requirement already satisfied: dataclasses in /root/.local/lib/python3.8/site-packages (from twint) (0.6)\n",
            "Requirement already satisfied: elasticsearch in /usr/local/lib/python3.8/dist-packages (from twint) (8.6.1)\n",
            "Requirement already satisfied: pysocks in /usr/local/lib/python3.8/dist-packages (from twint) (1.7.1)\n",
            "Requirement already satisfied: pandas in /usr/local/lib/python3.8/dist-packages (from twint) (1.3.5)\n",
            "Requirement already satisfied: aiohttp_socks in /usr/local/lib/python3.8/dist-packages (from twint) (0.7.1)\n",
            "Requirement already satisfied: schedule in /usr/local/lib/python3.8/dist-packages (from twint) (1.1.0)\n",
            "Requirement already satisfied: geopy in /usr/local/lib/python3.8/dist-packages (from twint) (1.17.0)\n",
            "Requirement already satisfied: fake-useragent in /usr/local/lib/python3.8/dist-packages (from twint) (1.1.1)\n",
            "Requirement already satisfied: googletransx in /usr/local/lib/python3.8/dist-packages (from twint) (2.4.2)\n",
            "Requirement already satisfied: pycares>=4.0.0 in /usr/local/lib/python3.8/dist-packages (from aiodns->twint) (4.3.0)\n",
            "Requirement already satisfied: multidict<7.0,>=4.5 in /usr/local/lib/python3.8/dist-packages (from aiohttp->twint) (6.0.4)\n",
            "Requirement already satisfied: aiosignal>=1.1.2 in /usr/local/lib/python3.8/dist-packages (from aiohttp->twint) (1.3.1)\n",
            "Requirement already satisfied: async-timeout<5.0,>=4.0.0a3 in /usr/local/lib/python3.8/dist-packages (from aiohttp->twint) (4.0.2)\n",
            "Requirement already satisfied: charset-normalizer<3.0,>=2.0 in /usr/local/lib/python3.8/dist-packages (from aiohttp->twint) (2.1.1)\n",
            "Requirement already satisfied: frozenlist>=1.1.1 in /usr/local/lib/python3.8/dist-packages (from aiohttp->twint) (1.3.3)\n",
            "Requirement already satisfied: yarl<2.0,>=1.0 in /usr/local/lib/python3.8/dist-packages (from aiohttp->twint) (1.8.2)\n",
            "Requirement already satisfied: attrs>=17.3.0 in /usr/local/lib/python3.8/dist-packages (from aiohttp->twint) (22.2.0)\n",
            "Requirement already satisfied: python-socks[asyncio]<3.0.0,>=2.0.0 in /usr/local/lib/python3.8/dist-packages (from aiohttp_socks->twint) (2.1.1)\n",
            "Requirement already satisfied: elastic-transport<9,>=8 in /usr/local/lib/python3.8/dist-packages (from elasticsearch->twint) (8.4.0)\n",
            "Requirement already satisfied: importlib-resources>=5.0 in /usr/local/lib/python3.8/dist-packages (from fake-useragent->twint) (5.10.2)\n",
            "Requirement already satisfied: geographiclib<2,>=1.49 in /usr/local/lib/python3.8/dist-packages (from geopy->twint) (1.52)\n",
            "Requirement already satisfied: requests in /usr/local/lib/python3.8/dist-packages (from googletransx->twint) (2.25.1)\n",
            "Requirement already satisfied: numpy>=1.17.3 in /usr/local/lib/python3.8/dist-packages (from pandas->twint) (1.21.6)\n",
            "Requirement already satisfied: python-dateutil>=2.7.3 in /usr/local/lib/python3.8/dist-packages (from pandas->twint) (2.8.2)\n",
            "Requirement already satisfied: pytz>=2017.3 in /usr/local/lib/python3.8/dist-packages (from pandas->twint) (2022.7.1)\n",
            "Requirement already satisfied: urllib3<2,>=1.26.2 in /usr/local/lib/python3.8/dist-packages (from elastic-transport<9,>=8->elasticsearch->twint) (1.26.14)\n",
            "Requirement already satisfied: certifi in /usr/local/lib/python3.8/dist-packages (from elastic-transport<9,>=8->elasticsearch->twint) (2022.12.7)\n",
            "Requirement already satisfied: zipp>=3.1.0 in /usr/local/lib/python3.8/dist-packages (from importlib-resources>=5.0->fake-useragent->twint) (3.12.0)\n",
            "Requirement already satisfied: cffi>=1.5.0 in /usr/local/lib/python3.8/dist-packages (from pycares>=4.0.0->aiodns->twint) (1.15.1)\n",
            "Requirement already satisfied: six>=1.5 in /usr/local/lib/python3.8/dist-packages (from python-dateutil>=2.7.3->pandas->twint) (1.15.0)\n",
            "Requirement already satisfied: idna>=2.0 in /usr/local/lib/python3.8/dist-packages (from yarl<2.0,>=1.0->aiohttp->twint) (2.10)\n",
            "Requirement already satisfied: chardet<5,>=3.0.2 in /usr/local/lib/python3.8/dist-packages (from requests->googletransx->twint) (4.0.0)\n",
            "Requirement already satisfied: pycparser in /usr/local/lib/python3.8/dist-packages (from cffi>=1.5.0->pycares>=4.0.0->aiodns->twint) (2.21)\n"
          ]
        }
      ]
    },
    {
      "cell_type": "code",
      "source": [
        "import pandas as pd\n",
        "import os\n",
        "import re"
      ],
      "metadata": {
        "id": "H60zCKnX2_81"
      },
      "execution_count": null,
      "outputs": []
    },
    {
      "cell_type": "code",
      "source": [
        "import twint"
      ],
      "metadata": {
        "id": "nJLBRlb9i_1H"
      },
      "execution_count": null,
      "outputs": []
    },
    {
      "cell_type": "code",
      "source": [
        "c = twint.Config()\n",
        "c.Search = 'Nasdaq' \n",
        "c.Limit = 50"
      ],
      "metadata": {
        "id": "r4s5f9YFhXbT"
      },
      "execution_count": null,
      "outputs": []
    },
    {
      "cell_type": "code",
      "source": [
        "from datetime import datetime\n",
        "today = datetime.today().strftime('%Y-%m-%d')\n",
        "c.Since = '2023-02-07'\n",
        "c.Lang = \"en\"\n",
        "c.Pandas = True\n",
        "c.Stats = True\n",
        "c.Min_likes = 20\n",
        "c.Min_retweets = 1\n",
        "c.Min_replies = 5"
      ],
      "metadata": {
        "id": "M5eN5RaCh6S0"
      },
      "execution_count": null,
      "outputs": []
    },
    {
      "cell_type": "code",
      "source": [
        "twint.run.Search(c)"
      ],
      "metadata": {
        "colab": {
          "base_uri": "https://localhost:8080/"
        },
        "id": "K6kdqYllqVSO",
        "outputId": "df98bdbd-7e1f-4556-bc6d-7002b0a733d7"
      },
      "execution_count": null,
      "outputs": [
        {
          "output_type": "stream",
          "name": "stdout",
          "text": [
            "1623137133916479491 2023-02-08 01:50:23 +0000 <MenthorQpro> Bond market talks recession (yield curve still deeply inverted) while NASDAQ forward earning valuations decide to go after the moon - zero fear of inflation  https://t.co/nxlZkZFS7s | 7 replies 9 retweets 59 likes\n",
            "1623134860733972480 2023-02-08 01:41:21 +0000 <AEHarshada> Dow recovers from Day low to close 265 pts up  Nasdaq gains 225 pts   Nikkei dn 187 pts  SGX Nifty up 63 pts  ahead of RBI's Credit policy | 7 replies 3 retweets 73 likes\n",
            "1623118896839675906 2023-02-08 00:37:55 +0000 <Nigel__DSouza> Fed Chair Powell comments indicated inflation has started easing😄   Bulls love it😍  🇺🇸Markets 🚀 #DowJones +0.8% #Nasdaq +1.9% S&amp;P500 +1.3%  💲Index at 103.2 ⛽️Brent at 83.7$ 🇺🇸10 yr yield at 3.66%  😢Ebay plans to lay off 500 employees, which is about 4% of its workforce | 9 replies 3 retweets 90 likes\n",
            "1623110393349672960 2023-02-08 00:04:08 +0000 <jfahmy> 8 follow through-type days for the Nasdaq Composite so far this year.  https://t.co/aC4hW5nF2m | 8 replies 16 retweets 153 likes\n",
            "1623097193958629376 2023-02-07 23:11:41 +0000 <blackwidowbtc> 1. The Dow Jones - Bullish cross ✅ 2. The #SP500     - Bullish cross ✅ 3. The $NASDAQ - Bullish cross ✅  And market structures all look great atm  What kind of market could this be? 🐂  If only anyone gave some hints in December...😅😘  Will update if anything changes 🕷️🕸️🤍  https://t.co/Yzs1K3GRPz | 5 replies 4 retweets 34 likes\n",
            "1623083445953110017 2023-02-07 22:17:03 +0000 <JulianKlymochko> The 10-year yield has been dropping but the long-duration NASDAQ has forgotten to follow  Bond yields imply a -10% correction in $QQQ  https://t.co/WUCy6siP9x | 14 replies 21 retweets 108 likes\n",
            "1623081660345470976 2023-02-07 22:09:57 +0000 <optimumhustle> #NASDAQ interviewed @VoltInuOfficial in a bear market, they don't interview any old meme token.  Now that was a bear market  You think they forgot about us in a Bull Run?  Watch out!  Big moves coming.  Real financial utility for the masses.  Time to explode! #volt $volt #voltinu  https://t.co/FdUQJSWt4r | 15 replies 62 retweets 84 likes\n",
            "1623079284356304896 2023-02-07 22:00:31 +0000 <TheMaverickWS> 2yr yield (white) vs. $QQQ (orange): As \"peak\" rate expectations flood market sentiment, the 2-year yield tops while the Nasdaq bottoms. Since February, they've been rallying together. One of these two is faking it. Which one is it?  https://t.co/xiDqG4Pl4Z | 52 replies 61 retweets 331 likes\n",
            "1623070836369285120 2023-02-07 21:26:57 +0000 <InverseTheCons> Nasdaq could be down 5% tomorrow and no one will be surprised or give a shit after Powell saying QT to continue for 2 more years and higher rates for longer. | 5 replies 3 retweets 39 likes\n",
            "1623070770175041537 2023-02-07 21:26:41 +0000 <goto_finance> 🇺🇸 株高 NASDAQが2%近く上昇。パウエルFRB議長が対談で「ディスインフレのプロセスが始まっているが、先は長い」などと発言。2/3の雇用統計が強く、事前に警戒もありましたが、2/1の会見にほぼ沿った内容でした。株価は対談中に上下しつつも、結局買いが優勢に。年明けから強い地合いが続いています  https://t.co/ecIi9mTgTt | 7 replies 370 retweets 2627 likes\n",
            "1623066400142028810 2023-02-07 21:09:19 +0000 <WSJ> Stocks ended the day near session highs, reversing from losses after Federal Reserve Chair Jerome Powell's remarks. The Dow closed up more than 250 points, while the Nasdaq gained 1.9%.  https://t.co/P3G5OcPXmc | 7 replies 6 retweets 22 likes\n",
            "1623065283077238796 2023-02-07 21:04:53 +0000 <Investingcom> ⚠️BREAKING:  *DOW ENDS UP MORE THAN 250 POINTS, NASDAQ JUMPS 1.9% AFTER POWELL SAYS INFLATION IS DECLINING -  https://t.co/8l4s32sjs1  $DIA $SPY $QQQ 🇺🇸🇺🇸 | 9 replies 24 retweets 99 likes\n",
            "1623064206626127872 2023-02-07 21:00:36 +0000 <tier10k> [DB] US Close  S&amp;P500: +1.30% Nasdaq: +1.95% Dow: +0.80% | 9 replies 10 retweets 166 likes\n",
            "1623060293982240771 2023-02-07 20:45:03 +0000 <NachoAbuchdid> Muy floja $AMZN  Incluso con el Nasdaq tradeando +1.70% no logra revertir el mal trimestre que presento.  Todavia no compro pero es para empezar a monitorearla en estos niveles 🧐 creo.  https://t.co/myMTfMII6E | 9 replies 2 retweets 33 likes\n",
            "1623053636002791430 2023-02-07 20:18:36 +0000 <3PeaksTrading> 10 yr yields higher today again with $TLT lower, still something to watch.. if stocks start to care about rising rates. Have moved up from 3.35% to 3.65% in 4 days. Pretty impressive Nasdaq has held its own | 7 replies 3 retweets 27 likes\n",
            "1623051481577390082 2023-02-07 20:10:02 +0000 <OffTheRunTrades> Whomst CIO running the buy the Nasdaq on the top of every hour algo? | 8 replies 2 retweets 61 likes\n",
            "1623048295529472002 2023-02-07 19:57:23 +0000 <Mayowamartinss> Would you like to learn my nasdaq chopping strategy ? | 5 replies 1 retweets 16 likes\n",
            "1623029478128553987 2023-02-07 18:42:36 +0000 <Investingcom> ⚠️BREAKING:  *NASDAQ ERASES 2% GAIN AS U.S. STOCKS TURN LOWER IN VOLATILE SESSION FOLLOWING POWELL COMMENTS  $DIA $SPY $QQQ 🇺🇸🇺🇸  https://t.co/gf9UY6nOF6 | 27 replies 23 retweets 171 likes\n",
            "1623025235099324434 2023-02-07 18:25:45 +0000 <DougKass> Breadth is now negative on the Nasdaq.  @KeithMcCullough @riskreversal @guyadami | 9 replies 1 retweets 35 likes\n",
            "1623023130041061381 2023-02-07 18:17:23 +0000 <Investingcom> ⚠️BREAKING:  *NASDAQ 100 EXTENDS GAINS TO 2% AFTER FED CHAIRMAN POWELL REITERATES THAT DISINFLATIONARY PROCESS HAS BEGUN  https://t.co/d3Gtp3Vnqv | 11 replies 22 retweets 154 likes\n",
            "1623020253948088337 2023-02-07 18:05:57 +0000 <Schuldensuehner> Markets seem to be liking what Fed's Powell is saying in interview w/David Rubenstein – or better – what he does not say. Powell had opportunity to lean against last week's euphoric rallye BUT Powell took a pass. Investors get it. Nasdaq jumps 1.7% while 10y yields drop 4bps.  https://t.co/UjcEVTe8Z7 | 10 replies 33 retweets 142 likes\n",
            "1623019153052532736 2023-02-07 18:01:34 +0000 <AimInvestments> Sudden Jump in NASDAQ. What did Powell said on job data?  https://t.co/P5fCGd9gcI | 7 replies 3 retweets 50 likes\n",
            "1623018965034323969 2023-02-07 18:00:50 +0000 <zerohedge> *NASDAQ 100 EXTENDS GAINS TO 2% | 10 replies 21 retweets 116 likes\n",
            "1623010847567097856 2023-02-07 17:28:34 +0000 <SteveWagsInvest> Some of My Favorite ETFs💰  $VOO S&amp;P 500 $VNQ US REITs $QQQ NASDAQ-100 $VT Total World Stock $DGRO Dividend Growth $VYM High Dividend Yield $VIG Dividend Appreciation $VTI US Total Stock Market $JEPI Equity Premium Income $SCHD US High Dividend Yield  What are your favorites? | 24 replies 46 retweets 257 likes\n",
            "1623003264747810816 2023-02-07 16:58:26 +0000 <badcharts1> Important inflexion point for 20 year treasury bonds.  Something tells me they are ready to tumble...  #tlt #inflation #recession #nasdaq #amazon #arkk  https://t.co/UOngZ292mZ | 13 replies 11 retweets 70 likes\n",
            "1622989398059933696 2023-02-07 16:03:20 +0000 <You0nlyLive0nce> $RGBP If you hold 1.5m shares value at $7500 at $0.005. When a reserve split happens, your shares will convert to 1500 shares of new share structure. The trade price can possibly be at around $5/share = $7500 value. The same value, only shares structure change. Koos wants NASDAQ? | 12 replies 3 retweets 36 likes\n",
            "1622988985323618307 2023-02-07 16:01:42 +0000 <ChartBreakouts> Did Cathie Wood really say $ARKK is the new NASDAQ? | 9 replies 2 retweets 17 likes\n",
            "1622976256496074752 2023-02-07 15:11:07 +0000 <matt_loeber> During streams you have to change your view window for us when you say “lets look at Nasdaq” 💀   Need a technology 101 class for our mans  @I_Am_The_ICT | 7 replies 4 retweets 104 likes\n",
            "1622966143970340865 2023-02-07 14:30:56 +0000 <tier10k> [DB] US Open  S&amp;P500: -0.20% Nasdaq: +0.05% Dow: -0.45% | 9 replies 8 retweets 145 likes\n",
            "1622953502132805636 2023-02-07 13:40:42 +0000 <RyanDetrick> New highs - new lows continues to improve across the board.  Also, note this didn't make new lows for US stocks and the Nasdaq in October. That's called a positive divergence and something you tend to see at major lows.  https://t.co/WuRGDb8COu | 8 replies 39 retweets 185 likes\n",
            "1622951115091501062 2023-02-07 13:31:13 +0000 <MoonMarket_> $VRAX $COSM: Virax Biolabs Group Limited Announces Purchase Order to Launch COVID-19 and Influenza A+B Antigen Combo Rapid Tests with Cosmos Health (NASDAQ:COSM) | 9 replies 18 retweets 65 likes\n",
            "1622940998602047489 2023-02-07 12:51:01 +0000 <rogerhamilton> Since @UpstreamXchange opened blockchain dual listing to NASDAQ/NYSE co’s in Dec, 2 co's have listed: $NTRB $JUPW + 9 co's have applied: $PIXY $PETV $IQST $CRKN $SURJ $CRTD $GNS $BTCS $COSM + $GTII joining next. Here’s vid on how this ends #NakedShorts:  https://t.co/efswJ3p0zQ  https://t.co/g0waVuOfZh | 17 replies 72 retweets 282 likes\n",
            "1622940747346354180 2023-02-07 12:50:01 +0000 <NPetallides> Worst 2 days for the nasdaq (Friday and Monday)since Dec 28 … #Tuesday #goodmorning stocks down moderately. Enjoy your ☕️! | 5 replies 3 retweets 37 likes\n",
            "1622921867282591744 2023-02-07 11:35:00 +0000 <Reuters> U.S. stocks fell, led downward by the tech-heavy Nasdaq. Investors shifted gears after considering the possibility that the Federal Reserve may take longer than expected to start cutting interest rates  https://t.co/JmAd4W7KXJ  https://t.co/Yk7EzdpFbT | 7 replies 7 retweets 23 likes\n",
            "1622902708842766336 2023-02-07 10:18:52 +0000 <RuffinFinance> Investing $500-$1,000/month into index funds is almost a guaranteed way to become a millionaire.  Here are a few funds to look into:  Total US Market: $VTI Total World Market: $VT Total International Market: $VXUS S&amp;P 500: $VOO Real Estate: $VNQ NASDAQ 100: $QQQM Dividends: $SCHD | 14 replies 23 retweets 123 likes\n",
            "1622849231995408384 2023-02-07 06:46:22 +0000 <great_martis> Nasdaq  https://t.co/idPyjKNHma | 27 replies 20 retweets 170 likes\n",
            "1622761417043742723 2023-02-07 00:57:25 +0000 <Nigel__DSouza> 🇺🇸 Markets #DowJones -0.1%, +200 pts from lows #NASDAQ -1% S&amp;P 500 -0.6%  Reason 👉Profit taking post good start to 2023 👎Rising bond yields: 🇺🇸10 yr at 3.64%  What to track today? 👀Fed Chair Jerome Powell speech before Economic Club of Washington  💲Index at 103.6 😢 ⛽️at 81$ | 6 replies 3 retweets 59 likes\n",
            "1622749690344222722 2023-02-07 00:10:50 +0000 <badcharts1> This looks to be the NEXT BIG sector to lead as #Nasdaq hands over the flame...  Nobody seems to care, as most are busy playing dangerous bear market rallies in $arkk and other tech stocks.  So, what is this mystery instrument?  I'll share if enough likes and retweets.  #fintwit  https://t.co/UfCNezbfed | 64 replies 107 retweets 754 likes\n",
            "[!] No more data! Scraping will stop now.\n",
            "found 0 deleted tweets in this search.\n"
          ]
        }
      ]
    },
    {
      "cell_type": "code",
      "source": [
        "def column_names():\n",
        "    return twint.output.panda.Tweets_df.columns\n",
        "def twint_to_pd(columns):\n",
        "    return twint.output.panda.Tweets_df[columns]"
      ],
      "metadata": {
        "colab": {
          "base_uri": "https://localhost:8080/"
        },
        "id": "xsLl3L_8iWeM",
        "outputId": "846640ce-f972-4bc5-b68e-7862cdca7014"
      },
      "execution_count": null,
      "outputs": [
        {
          "output_type": "execute_result",
          "data": {
            "text/plain": [
              "Index(['id', 'conversation_id', 'created_at', 'date', 'timezone', 'place',\n",
              "       'tweet', 'language', 'hashtags', 'cashtags', 'user_id', 'user_id_str',\n",
              "       'username', 'name', 'day', 'hour', 'link', 'urls', 'photos', 'video',\n",
              "       'thumbnail', 'retweet', 'nlikes', 'nreplies', 'nretweets', 'quote_url',\n",
              "       'search', 'near', 'geo', 'source', 'user_rt_id', 'user_rt',\n",
              "       'retweet_id', 'reply_to', 'retweet_date', 'translate', 'trans_src',\n",
              "       'trans_dest'],\n",
              "      dtype='object')"
            ]
          },
          "metadata": {},
          "execution_count": 30
        }
      ]
    },
    {
      "cell_type": "code",
      "source": [
        "tweet_df = twint_to_pd([\"date\", \"username\", \"tweet\", \"hashtags\", \"nlikes\" , \"nreplies\", \"nretweets\"])\n",
        "tweet_df.head(10)"
      ],
      "metadata": {
        "colab": {
          "base_uri": "https://localhost:8080/",
          "height": 581
        },
        "id": "5F9zKhN-lHe1",
        "outputId": "2eaff5df-7284-4887-d404-bb0a30d41bca"
      },
      "execution_count": null,
      "outputs": [
        {
          "output_type": "execute_result",
          "data": {
            "text/plain": [
              "                  date         username  \\\n",
              "0  2023-02-08 01:50:23      MenthorQpro   \n",
              "1  2023-02-08 01:41:21       AEHarshada   \n",
              "2  2023-02-08 00:37:55    Nigel__DSouza   \n",
              "3  2023-02-08 00:04:08           jfahmy   \n",
              "4  2023-02-07 23:11:41    blackwidowbtc   \n",
              "5  2023-02-07 22:17:03  JulianKlymochko   \n",
              "6  2023-02-07 22:09:57    optimumhustle   \n",
              "7  2023-02-07 22:00:31    TheMaverickWS   \n",
              "8  2023-02-07 21:26:57   InverseTheCons   \n",
              "9  2023-02-07 21:26:41     goto_finance   \n",
              "\n",
              "                                               tweet                 hashtags  \\\n",
              "0  Bond market talks recession (yield curve still...                       []   \n",
              "1  Dow recovers from Day low to close 265 pts up ...                       []   \n",
              "2  Fed Chair Powell comments indicated inflation ...       [dowjones, nasdaq]   \n",
              "3  8 follow through-type days for the Nasdaq Comp...                       []   \n",
              "4  1. The Dow Jones - Bullish cross ✅ 2. The #SP5...                  [sp500]   \n",
              "5  The 10-year yield has been dropping but the lo...                       []   \n",
              "6  #NASDAQ interviewed @VoltInuOfficial in a bear...  [nasdaq, volt, voltinu]   \n",
              "7  2yr yield (white) vs. $QQQ (orange): As \"peak\"...                       []   \n",
              "8  Nasdaq could be down 5% tomorrow and no one wi...                       []   \n",
              "9  🇺🇸 株高 NASDAQが2%近く上昇。パウエルFRB議長が対談で「ディスインフレのプロセス...                       []   \n",
              "\n",
              "   nlikes  nreplies  nretweets  \n",
              "0      59         7          9  \n",
              "1      73         7          3  \n",
              "2      90         9          3  \n",
              "3     153         8         16  \n",
              "4      34         5          4  \n",
              "5     108        14         21  \n",
              "6      84        15         62  \n",
              "7     331        52         61  \n",
              "8      39         5          3  \n",
              "9    2627         7        370  "
            ],
            "text/html": [
              "\n",
              "  <div id=\"df-55d2ff92-e6bb-4423-96c8-6413b3c99dd9\">\n",
              "    <div class=\"colab-df-container\">\n",
              "      <div>\n",
              "<style scoped>\n",
              "    .dataframe tbody tr th:only-of-type {\n",
              "        vertical-align: middle;\n",
              "    }\n",
              "\n",
              "    .dataframe tbody tr th {\n",
              "        vertical-align: top;\n",
              "    }\n",
              "\n",
              "    .dataframe thead th {\n",
              "        text-align: right;\n",
              "    }\n",
              "</style>\n",
              "<table border=\"1\" class=\"dataframe\">\n",
              "  <thead>\n",
              "    <tr style=\"text-align: right;\">\n",
              "      <th></th>\n",
              "      <th>date</th>\n",
              "      <th>username</th>\n",
              "      <th>tweet</th>\n",
              "      <th>hashtags</th>\n",
              "      <th>nlikes</th>\n",
              "      <th>nreplies</th>\n",
              "      <th>nretweets</th>\n",
              "    </tr>\n",
              "  </thead>\n",
              "  <tbody>\n",
              "    <tr>\n",
              "      <th>0</th>\n",
              "      <td>2023-02-08 01:50:23</td>\n",
              "      <td>MenthorQpro</td>\n",
              "      <td>Bond market talks recession (yield curve still...</td>\n",
              "      <td>[]</td>\n",
              "      <td>59</td>\n",
              "      <td>7</td>\n",
              "      <td>9</td>\n",
              "    </tr>\n",
              "    <tr>\n",
              "      <th>1</th>\n",
              "      <td>2023-02-08 01:41:21</td>\n",
              "      <td>AEHarshada</td>\n",
              "      <td>Dow recovers from Day low to close 265 pts up ...</td>\n",
              "      <td>[]</td>\n",
              "      <td>73</td>\n",
              "      <td>7</td>\n",
              "      <td>3</td>\n",
              "    </tr>\n",
              "    <tr>\n",
              "      <th>2</th>\n",
              "      <td>2023-02-08 00:37:55</td>\n",
              "      <td>Nigel__DSouza</td>\n",
              "      <td>Fed Chair Powell comments indicated inflation ...</td>\n",
              "      <td>[dowjones, nasdaq]</td>\n",
              "      <td>90</td>\n",
              "      <td>9</td>\n",
              "      <td>3</td>\n",
              "    </tr>\n",
              "    <tr>\n",
              "      <th>3</th>\n",
              "      <td>2023-02-08 00:04:08</td>\n",
              "      <td>jfahmy</td>\n",
              "      <td>8 follow through-type days for the Nasdaq Comp...</td>\n",
              "      <td>[]</td>\n",
              "      <td>153</td>\n",
              "      <td>8</td>\n",
              "      <td>16</td>\n",
              "    </tr>\n",
              "    <tr>\n",
              "      <th>4</th>\n",
              "      <td>2023-02-07 23:11:41</td>\n",
              "      <td>blackwidowbtc</td>\n",
              "      <td>1. The Dow Jones - Bullish cross ✅ 2. The #SP5...</td>\n",
              "      <td>[sp500]</td>\n",
              "      <td>34</td>\n",
              "      <td>5</td>\n",
              "      <td>4</td>\n",
              "    </tr>\n",
              "    <tr>\n",
              "      <th>5</th>\n",
              "      <td>2023-02-07 22:17:03</td>\n",
              "      <td>JulianKlymochko</td>\n",
              "      <td>The 10-year yield has been dropping but the lo...</td>\n",
              "      <td>[]</td>\n",
              "      <td>108</td>\n",
              "      <td>14</td>\n",
              "      <td>21</td>\n",
              "    </tr>\n",
              "    <tr>\n",
              "      <th>6</th>\n",
              "      <td>2023-02-07 22:09:57</td>\n",
              "      <td>optimumhustle</td>\n",
              "      <td>#NASDAQ interviewed @VoltInuOfficial in a bear...</td>\n",
              "      <td>[nasdaq, volt, voltinu]</td>\n",
              "      <td>84</td>\n",
              "      <td>15</td>\n",
              "      <td>62</td>\n",
              "    </tr>\n",
              "    <tr>\n",
              "      <th>7</th>\n",
              "      <td>2023-02-07 22:00:31</td>\n",
              "      <td>TheMaverickWS</td>\n",
              "      <td>2yr yield (white) vs. $QQQ (orange): As \"peak\"...</td>\n",
              "      <td>[]</td>\n",
              "      <td>331</td>\n",
              "      <td>52</td>\n",
              "      <td>61</td>\n",
              "    </tr>\n",
              "    <tr>\n",
              "      <th>8</th>\n",
              "      <td>2023-02-07 21:26:57</td>\n",
              "      <td>InverseTheCons</td>\n",
              "      <td>Nasdaq could be down 5% tomorrow and no one wi...</td>\n",
              "      <td>[]</td>\n",
              "      <td>39</td>\n",
              "      <td>5</td>\n",
              "      <td>3</td>\n",
              "    </tr>\n",
              "    <tr>\n",
              "      <th>9</th>\n",
              "      <td>2023-02-07 21:26:41</td>\n",
              "      <td>goto_finance</td>\n",
              "      <td>🇺🇸 株高 NASDAQが2%近く上昇。パウエルFRB議長が対談で「ディスインフレのプロセス...</td>\n",
              "      <td>[]</td>\n",
              "      <td>2627</td>\n",
              "      <td>7</td>\n",
              "      <td>370</td>\n",
              "    </tr>\n",
              "  </tbody>\n",
              "</table>\n",
              "</div>\n",
              "      <button class=\"colab-df-convert\" onclick=\"convertToInteractive('df-55d2ff92-e6bb-4423-96c8-6413b3c99dd9')\"\n",
              "              title=\"Convert this dataframe to an interactive table.\"\n",
              "              style=\"display:none;\">\n",
              "        \n",
              "  <svg xmlns=\"http://www.w3.org/2000/svg\" height=\"24px\"viewBox=\"0 0 24 24\"\n",
              "       width=\"24px\">\n",
              "    <path d=\"M0 0h24v24H0V0z\" fill=\"none\"/>\n",
              "    <path d=\"M18.56 5.44l.94 2.06.94-2.06 2.06-.94-2.06-.94-.94-2.06-.94 2.06-2.06.94zm-11 1L8.5 8.5l.94-2.06 2.06-.94-2.06-.94L8.5 2.5l-.94 2.06-2.06.94zm10 10l.94 2.06.94-2.06 2.06-.94-2.06-.94-.94-2.06-.94 2.06-2.06.94z\"/><path d=\"M17.41 7.96l-1.37-1.37c-.4-.4-.92-.59-1.43-.59-.52 0-1.04.2-1.43.59L10.3 9.45l-7.72 7.72c-.78.78-.78 2.05 0 2.83L4 21.41c.39.39.9.59 1.41.59.51 0 1.02-.2 1.41-.59l7.78-7.78 2.81-2.81c.8-.78.8-2.07 0-2.86zM5.41 20L4 18.59l7.72-7.72 1.47 1.35L5.41 20z\"/>\n",
              "  </svg>\n",
              "      </button>\n",
              "      \n",
              "  <style>\n",
              "    .colab-df-container {\n",
              "      display:flex;\n",
              "      flex-wrap:wrap;\n",
              "      gap: 12px;\n",
              "    }\n",
              "\n",
              "    .colab-df-convert {\n",
              "      background-color: #E8F0FE;\n",
              "      border: none;\n",
              "      border-radius: 50%;\n",
              "      cursor: pointer;\n",
              "      display: none;\n",
              "      fill: #1967D2;\n",
              "      height: 32px;\n",
              "      padding: 0 0 0 0;\n",
              "      width: 32px;\n",
              "    }\n",
              "\n",
              "    .colab-df-convert:hover {\n",
              "      background-color: #E2EBFA;\n",
              "      box-shadow: 0px 1px 2px rgba(60, 64, 67, 0.3), 0px 1px 3px 1px rgba(60, 64, 67, 0.15);\n",
              "      fill: #174EA6;\n",
              "    }\n",
              "\n",
              "    [theme=dark] .colab-df-convert {\n",
              "      background-color: #3B4455;\n",
              "      fill: #D2E3FC;\n",
              "    }\n",
              "\n",
              "    [theme=dark] .colab-df-convert:hover {\n",
              "      background-color: #434B5C;\n",
              "      box-shadow: 0px 1px 3px 1px rgba(0, 0, 0, 0.15);\n",
              "      filter: drop-shadow(0px 1px 2px rgba(0, 0, 0, 0.3));\n",
              "      fill: #FFFFFF;\n",
              "    }\n",
              "  </style>\n",
              "\n",
              "      <script>\n",
              "        const buttonEl =\n",
              "          document.querySelector('#df-55d2ff92-e6bb-4423-96c8-6413b3c99dd9 button.colab-df-convert');\n",
              "        buttonEl.style.display =\n",
              "          google.colab.kernel.accessAllowed ? 'block' : 'none';\n",
              "\n",
              "        async function convertToInteractive(key) {\n",
              "          const element = document.querySelector('#df-55d2ff92-e6bb-4423-96c8-6413b3c99dd9');\n",
              "          const dataTable =\n",
              "            await google.colab.kernel.invokeFunction('convertToInteractive',\n",
              "                                                     [key], {});\n",
              "          if (!dataTable) return;\n",
              "\n",
              "          const docLinkHtml = 'Like what you see? Visit the ' +\n",
              "            '<a target=\"_blank\" href=https://colab.research.google.com/notebooks/data_table.ipynb>data table notebook</a>'\n",
              "            + ' to learn more about interactive tables.';\n",
              "          element.innerHTML = '';\n",
              "          dataTable['output_type'] = 'display_data';\n",
              "          await google.colab.output.renderOutput(dataTable, element);\n",
              "          const docLink = document.createElement('div');\n",
              "          docLink.innerHTML = docLinkHtml;\n",
              "          element.appendChild(docLink);\n",
              "        }\n",
              "      </script>\n",
              "    </div>\n",
              "  </div>\n",
              "  "
            ]
          },
          "metadata": {},
          "execution_count": 31
        }
      ]
    },
    {
      "cell_type": "code",
      "source": [
        "tweet_list = tweet_df['tweet'].tolist()"
      ],
      "metadata": {
        "id": "MGFDJfsvl5kT"
      },
      "execution_count": null,
      "outputs": []
    },
    {
      "cell_type": "code",
      "source": [
        "import json\n",
        "#Store you OpenAPI key in a json file\n",
        "OPENAI_API_KEY = ''\n",
        "with open('/content/OpenAI.json', 'r') as file_to_read:\n",
        "    json_data = json.load(file_to_read)\n",
        "    OPENAI_API_KEY = json_data[\"OPENAI_API_KEY\"]"
      ],
      "metadata": {
        "id": "8xGifNw-mCsW"
      },
      "execution_count": null,
      "outputs": []
    },
    {
      "cell_type": "code",
      "source": [
        "import os\n",
        "import openai\n",
        "\n",
        "openai.api_key =  OPENAI_API_KEY"
      ],
      "metadata": {
        "id": "eOiJ304NlKjC"
      },
      "execution_count": null,
      "outputs": []
    },
    {
      "cell_type": "code",
      "source": [
        "i =1\n",
        "tweet_str=''\n",
        "for tweet in tweet_list:\n",
        "   tweet_str = tweet_str + str(i) +'.'+'\"'+tweet+'\"'+'\\n'\n",
        "   i=i+1\n",
        "   if i == 30:\n",
        "     break"
      ],
      "metadata": {
        "id": "0-ho50bUrXk1"
      },
      "execution_count": null,
      "outputs": []
    },
    {
      "cell_type": "code",
      "source": [
        "prompt=\"Classify the sentiment in these tweets with probability:\\n\" + tweet_str + \"\\n Tweet sentiment ratings:\""
      ],
      "metadata": {
        "id": "y_MIy90OrZ11"
      },
      "execution_count": null,
      "outputs": []
    },
    {
      "cell_type": "code",
      "source": [
        "response = openai.Completion.create(\n",
        "  model=\"text-davinci-003\",\n",
        "  prompt= prompt,\n",
        "  temperature=0,\n",
        "  max_tokens=120,\n",
        "  top_p=1.0,\n",
        "  frequency_penalty=0.0,\n",
        "  presence_penalty=0.0\n",
        ")"
      ],
      "metadata": {
        "id": "PLXhaCMwrcv6"
      },
      "execution_count": null,
      "outputs": []
    },
    {
      "cell_type": "code",
      "source": [
        "(response[\"choices\"][0][\"text\"]).split('\\n')[1:]"
      ],
      "metadata": {
        "colab": {
          "base_uri": "https://localhost:8080/"
        },
        "id": "NRpR7gRkrgFY",
        "outputId": "745766c5-dc4f-47e4-d66c-0cda51ea41f2"
      },
      "execution_count": null,
      "outputs": [
        {
          "output_type": "execute_result",
          "data": {
            "text/plain": [
              "['1. Neutral (0.5)',\n",
              " '2. Positive (0.8)',\n",
              " '3. Positive (0.7)',\n",
              " '4. Neutral (0.5)',\n",
              " '5. Positive (0.9)',\n",
              " '6. Neutral (0.5)',\n",
              " '7. Positive (0.8)',\n",
              " '8. Neutral (0.5)',\n",
              " '9. Negative (0.3)',\n",
              " '10. Positive (0.7)',\n",
              " '11. Positive (0.8)',\n",
              " '12. Positive (0.8)',\n",
              " '13. Positive (0.7)',\n",
              " '14.']"
            ]
          },
          "metadata": {},
          "execution_count": 45
        }
      ]
    },
    {
      "cell_type": "code",
      "source": [
        "tweet_df['tweet']"
      ],
      "metadata": {
        "colab": {
          "base_uri": "https://localhost:8080/"
        },
        "id": "mYbFle2Truw6",
        "outputId": "bff3d811-f611-439c-a778-d91a5a50cba6"
      },
      "execution_count": null,
      "outputs": [
        {
          "output_type": "execute_result",
          "data": {
            "text/plain": [
              "0     Bond market talks recession (yield curve still...\n",
              "1     Dow recovers from Day low to close 265 pts up ...\n",
              "2     Fed Chair Powell comments indicated inflation ...\n",
              "3     8 follow through-type days for the Nasdaq Comp...\n",
              "4     1. The Dow Jones - Bullish cross ✅ 2. The #SP5...\n",
              "5     The 10-year yield has been dropping but the lo...\n",
              "6     #NASDAQ interviewed @VoltInuOfficial in a bear...\n",
              "7     2yr yield (white) vs. $QQQ (orange): As \"peak\"...\n",
              "8     Nasdaq could be down 5% tomorrow and no one wi...\n",
              "9     🇺🇸 株高 NASDAQが2%近く上昇。パウエルFRB議長が対談で「ディスインフレのプロセス...\n",
              "10    Stocks ended the day near session highs, rever...\n",
              "11    ⚠️BREAKING:  *DOW ENDS UP MORE THAN 250 POINTS...\n",
              "12    [DB] US Close  S&amp;P500: +1.30% Nasdaq: +1.9...\n",
              "13    Muy floja $AMZN  Incluso con el Nasdaq tradean...\n",
              "14    10 yr yields higher today again with $TLT lowe...\n",
              "15    Whomst CIO running the buy the Nasdaq on the t...\n",
              "16    Would you like to learn my nasdaq chopping str...\n",
              "17    ⚠️BREAKING:  *NASDAQ ERASES 2% GAIN AS U.S. ST...\n",
              "18    Breadth is now negative on the Nasdaq.  @Keith...\n",
              "19    ⚠️BREAKING:  *NASDAQ 100 EXTENDS GAINS TO 2% A...\n",
              "20    Markets seem to be liking what Fed's Powell is...\n",
              "21    Sudden Jump in NASDAQ. What did Powell said on...\n",
              "22                      *NASDAQ 100 EXTENDS GAINS TO 2%\n",
              "23    Some of My Favorite ETFs💰  $VOO S&amp;P 500 $V...\n",
              "24    Important inflexion point for 20 year treasury...\n",
              "25    $RGBP If you hold 1.5m shares value at $7500 a...\n",
              "26    Did Cathie Wood really say $ARKK is the new NA...\n",
              "27    During streams you have to change your view wi...\n",
              "28    [DB] US Open  S&amp;P500: -0.20% Nasdaq: +0.05...\n",
              "29    New highs - new lows continues to improve acro...\n",
              "30    $VRAX $COSM: Virax Biolabs Group Limited Annou...\n",
              "31    Since @UpstreamXchange opened blockchain dual ...\n",
              "32    Worst 2 days for the nasdaq (Friday and Monday...\n",
              "33    U.S. stocks fell, led downward by the tech-hea...\n",
              "34    Investing $500-$1,000/month into index funds i...\n",
              "35                      Nasdaq  https://t.co/idPyjKNHma\n",
              "36    🇺🇸 Markets #DowJones -0.1%, +200 pts from lows...\n",
              "37    This looks to be the NEXT BIG sector to lead a...\n",
              "Name: tweet, dtype: object"
            ]
          },
          "metadata": {},
          "execution_count": 40
        }
      ]
    },
    {
      "cell_type": "code",
      "source": [
        "tweet_df['tweet'][11]"
      ],
      "metadata": {
        "colab": {
          "base_uri": "https://localhost:8080/",
          "height": 54
        },
        "id": "syvn2qNTtdij",
        "outputId": "16dc2960-41a2-4b78-a800-301f78bc806b"
      },
      "execution_count": null,
      "outputs": [
        {
          "output_type": "execute_result",
          "data": {
            "text/plain": [
              "'⚠️BREAKING:  *DOW ENDS UP MORE THAN 250 POINTS, NASDAQ JUMPS 1.9% AFTER POWELL SAYS INFLATION IS DECLINING -  https://t.co/8l4s32sjs1  $DIA $SPY $QQQ 🇺🇸🇺🇸'"
            ],
            "application/vnd.google.colaboratory.intrinsic+json": {
              "type": "string"
            }
          },
          "metadata": {},
          "execution_count": 52
        }
      ]
    },
    {
      "cell_type": "code",
      "source": [
        "text = ''.join(tweet_df['tweet'])"
      ],
      "metadata": {
        "id": "1TZ5EZNCEcoE"
      },
      "execution_count": null,
      "outputs": []
    },
    {
      "cell_type": "code",
      "source": [
        "response_sum = openai.Completion.create(\n",
        "  model=\"text-davinci-003\",\n",
        "  prompt=\"{} \\n\\nTl;dr\".format(text),\n",
        "  temperature=0.7,\n",
        "  max_tokens=60,\n",
        "  top_p=1.0,\n",
        "  frequency_penalty=0.0,\n",
        "  presence_penalty=1\n",
        ")\n",
        "\n",
        "response_sum"
      ],
      "metadata": {
        "id": "vvuW6wd18Psx"
      },
      "execution_count": null,
      "outputs": []
    }
  ]
}